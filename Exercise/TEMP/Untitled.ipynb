{
 "cells": [
  {
   "cell_type": "code",
   "execution_count": null,
   "metadata": {},
   "outputs": [
    {
     "name": "stdout",
     "output_type": "stream",
     "text": [
      "DisplayMenu\n",
      "NoOfAttempt\n",
      "DisplayMenu\n",
      "NoOfAttempt\n",
      "DisplayMenu\n"
     ]
    }
   ],
   "source": [
    "def DisplayMenu():\n",
    "    print(\"DisplayMenu\")\n",
    "    \n",
    "def ReadFile():\n",
    "    print(\"ReadFile\")\n",
    "    \n",
    "NoOfAttempt = 0\n",
    "while NoOfAttempt<3:\n",
    "    DisplayMenu()\n",
    "    choice = input(\"Make your choice:\")\n",
    "    if choice == 1:\n",
    "        ReadFile()\n",
    "    if choice == 2:\n",
    "        print(\"Add customer code\")\n",
    "    if choice == 3:\n",
    "        print(\"Search customer code\")\n",
    "    if choice == 4:\n",
    "        NoOfAttempt = 3\n",
    "    NoOfAttempt+=1\n",
    "    print(\"NoOfAttempt\")"
   ]
  },
  {
   "cell_type": "code",
   "execution_count": null,
   "metadata": {},
   "outputs": [],
   "source": []
  }
 ],
 "metadata": {
  "kernelspec": {
   "display_name": "Python 3",
   "language": "python",
   "name": "python3"
  },
  "language_info": {
   "codemirror_mode": {
    "name": "ipython",
    "version": 3
   },
   "file_extension": ".py",
   "mimetype": "text/x-python",
   "name": "python",
   "nbconvert_exporter": "python",
   "pygments_lexer": "ipython3",
   "version": "3.6.5"
  }
 },
 "nbformat": 4,
 "nbformat_minor": 2
}

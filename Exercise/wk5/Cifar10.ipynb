{
 "cells": [
  {
   "cell_type": "code",
   "execution_count": 1,
   "metadata": {},
   "outputs": [
    {
     "name": "stderr",
     "output_type": "stream",
     "text": [
      "C:\\ProgramData\\Anaconda3\\lib\\site-packages\\h5py\\__init__.py:36: FutureWarning: Conversion of the second argument of issubdtype from `float` to `np.floating` is deprecated. In future, it will be treated as `np.float64 == np.dtype(float).type`.\n",
      "  from ._conv import register_converters as _register_converters\n",
      "Using TensorFlow backend.\n"
     ]
    }
   ],
   "source": [
    "import os\n",
    "os.environ['CUDA_VISIBLE_DEVICES'] = '-1'\n",
    "\n",
    "import keras\n",
    "from keras.models import Sequential\n",
    "from keras.layers import Dense\n",
    "from keras.datasets import cifar10\n",
    "(x_train, y_train), (x_test, y_test) = cifar10.load_data()\n",
    "\n",
    "# def unpickle(file):\n",
    "#     import pickle\n",
    "#     with open(file, 'rb') as fo:\n",
    "#         dict = pickle.load(fo, encoding='bytes')\n",
    "#     return dict"
   ]
  },
  {
   "cell_type": "code",
   "execution_count": 2,
   "metadata": {},
   "outputs": [
    {
     "data": {
      "text/plain": [
       "(50000, 32, 32, 3)"
      ]
     },
     "execution_count": 2,
     "metadata": {},
     "output_type": "execute_result"
    }
   ],
   "source": [
    "x_train.shape"
   ]
  },
  {
   "cell_type": "code",
   "execution_count": 3,
   "metadata": {},
   "outputs": [
    {
     "data": {
      "text/plain": [
       "(50000, 3072)"
      ]
     },
     "execution_count": 3,
     "metadata": {},
     "output_type": "execute_result"
    }
   ],
   "source": [
    "x_train = x_train.reshape((50000,32*32*3))\n",
    "x_test = x_test.reshape((10000,32*32*3))\n",
    "\n",
    "x_train = x_train.astype('float32')/255.\n",
    "x_test = x_test.astype('float32')/255.\n",
    "x_train.shape"
   ]
  },
  {
   "cell_type": "code",
   "execution_count": 4,
   "metadata": {},
   "outputs": [
    {
     "data": {
      "text/plain": [
       "array([0.23137255, 0.24313726, 0.24705882, ..., 0.48235294, 0.36078432,\n",
       "       0.28235295], dtype=float32)"
      ]
     },
     "execution_count": 4,
     "metadata": {},
     "output_type": "execute_result"
    }
   ],
   "source": [
    "x_train[0]"
   ]
  },
  {
   "cell_type": "code",
   "execution_count": 5,
   "metadata": {},
   "outputs": [],
   "source": [
    "y_train = keras.utils.to_categorical(y_train,10)\n",
    "y_test = keras.utils.to_categorical(y_test,10)"
   ]
  },
  {
   "cell_type": "code",
   "execution_count": 6,
   "metadata": {},
   "outputs": [
    {
     "data": {
      "text/plain": [
       "array([[0., 0., 0., 0., 0., 0., 1., 0., 0., 0.],\n",
       "       [0., 0., 0., 0., 0., 0., 0., 0., 0., 1.],\n",
       "       [0., 0., 0., 0., 0., 0., 0., 0., 0., 1.],\n",
       "       [0., 0., 0., 0., 1., 0., 0., 0., 0., 0.],\n",
       "       [0., 1., 0., 0., 0., 0., 0., 0., 0., 0.],\n",
       "       [0., 1., 0., 0., 0., 0., 0., 0., 0., 0.],\n",
       "       [0., 0., 1., 0., 0., 0., 0., 0., 0., 0.],\n",
       "       [0., 0., 0., 0., 0., 0., 0., 1., 0., 0.],\n",
       "       [0., 0., 0., 0., 0., 0., 0., 0., 1., 0.],\n",
       "       [0., 0., 0., 1., 0., 0., 0., 0., 0., 0.]], dtype=float32)"
      ]
     },
     "execution_count": 6,
     "metadata": {},
     "output_type": "execute_result"
    }
   ],
   "source": [
    "y_train[:10]"
   ]
  },
  {
   "cell_type": "code",
   "execution_count": 7,
   "metadata": {},
   "outputs": [
    {
     "name": "stdout",
     "output_type": "stream",
     "text": [
      "_________________________________________________________________\n",
      "Layer (type)                 Output Shape              Param #   \n",
      "=================================================================\n",
      "dense_1 (Dense)              (None, 256)               786688    \n",
      "_________________________________________________________________\n",
      "dense_2 (Dense)              (None, 256)               65792     \n",
      "_________________________________________________________________\n",
      "dense_3 (Dense)              (None, 10)                2570      \n",
      "=================================================================\n",
      "Total params: 855,050\n",
      "Trainable params: 855,050\n",
      "Non-trainable params: 0\n",
      "_________________________________________________________________\n"
     ]
    }
   ],
   "source": [
    "model = Sequential()\n",
    "model.add(Dense(256, activation='sigmoid', input_dim=32*32*3))\n",
    "model.add(Dense(256, activation='sigmoid'))\n",
    "model.add(Dense(10, activation='softmax'))\n",
    "model.summary()"
   ]
  },
  {
   "cell_type": "code",
   "execution_count": 8,
   "metadata": {},
   "outputs": [],
   "source": [
    "model.compile(loss='categorical_crossentropy', optimizer='sgd', metrics=['accuracy'])"
   ]
  },
  {
   "cell_type": "markdown",
   "metadata": {},
   "source": [
    "### Run on GPU : GTX1080\n",
    "\n",
    "Train on 50000 samples, validate on 10000 samples\n",
    "\n",
    "Epoch 1/50\n",
    "50000/50000 [==============================] - 5s 107us/step - loss: 2.2907 - acc: 0.1498 - val_loss: 2.2691 - val_acc: 0.1878\n",
    "Epoch 2/50\n",
    "50000/50000 [==============================] - 3s 53us/step - loss: 2.2505 - acc: 0.2053 - val_loss: 2.2295 - val_acc: 0.2261\n",
    "Epoch 3/50\n",
    "50000/50000 [==============================] - 3s 53us/step - loss: 2.2059 - acc: 0.2366 - val_loss: 2.1797 - val_acc: 0.2443\n",
    "Epoch 4/50\n",
    "50000/50000 [==============================] - 3s 53us/step - loss: 2.1534 - acc: 0.2548 - val_loss: 2.1285 - val_acc: 0.2309\n",
    "Epoch 5/50\n",
    "50000/50000 [==============================] - 3s 53us/step - loss: 2.1035 - acc: 0.2656 - val_loss: 2.0817 - val_acc: 0.2827\n",
    "Epoch 6/50\n",
    "50000/50000 [==============================] - 3s 52us/step - loss: 2.0626 - acc: 0.2756 - val_loss: 2.0448 - val_acc: 0.2775\n",
    "Epoch 7/50\n",
    "50000/50000 [==============================] - 3s 52us/step - loss: 2.0299 - acc: 0.2863 - val_loss: 2.0152 - val_acc: 0.2890\n",
    "Epoch 8/50\n",
    "50000/50000 [==============================] - 3s 52us/step - loss: 2.0027 - acc: 0.2917 - val_loss: 1.9907 - val_acc: 0.2985\n",
    "Epoch 9/50\n",
    "50000/50000 [==============================] - 3s 52us/step - loss: 1.9802 - acc: 0.2957 - val_loss: 1.9696 - val_acc: 0.3024\n",
    "Epoch 10/50\n",
    "50000/50000 [==============================] - 3s 54us/step - loss: 1.9611 - acc: 0.3037 - val_loss: 1.9540 - val_acc: 0.3083\n",
    "Epoch 11/50\n",
    "50000/50000 [==============================] - 3s 53us/step - loss: 1.9450 - acc: 0.3105 - val_loss: 1.9400 - val_acc: 0.3062\n",
    "Epoch 12/50\n",
    "50000/50000 [==============================] - 3s 52us/step - loss: 1.9308 - acc: 0.3177 - val_loss: 1.9254 - val_acc: 0.3230\n",
    "Epoch 13/50\n",
    "50000/50000 [==============================] - 3s 52us/step - loss: 1.9185 - acc: 0.3215 - val_loss: 1.9126 - val_acc: 0.3204\n",
    "Epoch 14/50\n",
    "50000/50000 [==============================] - 3s 53us/step - loss: 1.9076 - acc: 0.3257 - val_loss: 1.9013 - val_acc: 0.3270\n",
    "Epoch 15/50\n",
    "50000/50000 [==============================] - 3s 53us/step - loss: 1.8976 - acc: 0.3295 - val_loss: 1.8925 - val_acc: 0.3354\n",
    "Epoch 16/50\n",
    "50000/50000 [==============================] - 3s 53us/step - loss: 1.8885 - acc: 0.3334 - val_loss: 1.8833 - val_acc: 0.3364\n",
    "Epoch 17/50\n",
    "50000/50000 [==============================] - 3s 54us/step - loss: 1.8803 - acc: 0.3390 - val_loss: 1.8754 - val_acc: 0.3375\n",
    "Epoch 18/50\n",
    "50000/50000 [==============================] - 3s 53us/step - loss: 1.8720 - acc: 0.3421 - val_loss: 1.8680 - val_acc: 0.3391\n",
    "Epoch 19/50\n",
    "50000/50000 [==============================] - 3s 53us/step - loss: 1.8646 - acc: 0.3439 - val_loss: 1.8612 - val_acc: 0.3450\n",
    "Epoch 20/50\n",
    "50000/50000 [==============================] - 3s 52us/step - loss: 1.8571 - acc: 0.3490 - val_loss: 1.8545 - val_acc: 0.3456\n",
    "Epoch 21/50\n",
    "50000/50000 [==============================] - 3s 53us/step - loss: 1.8502 - acc: 0.3484 - val_loss: 1.8461 - val_acc: 0.3538\n",
    "Epoch 22/50\n",
    "50000/50000 [==============================] - 3s 53us/step - loss: 1.8431 - acc: 0.3516 - val_loss: 1.8396 - val_acc: 0.3519\n",
    "Epoch 23/50\n",
    "50000/50000 [==============================] - 3s 54us/step - loss: 1.8361 - acc: 0.3549 - val_loss: 1.8367 - val_acc: 0.3587\n",
    "Epoch 24/50\n",
    "50000/50000 [==============================] - 3s 54us/step - loss: 1.8292 - acc: 0.3573 - val_loss: 1.8279 - val_acc: 0.3562\n",
    "Epoch 25/50\n",
    "50000/50000 [==============================] - 3s 52us/step - loss: 1.8229 - acc: 0.3601 - val_loss: 1.8206 - val_acc: 0.3582\n",
    "Epoch 26/50\n",
    "50000/50000 [==============================] - 3s 53us/step - loss: 1.8164 - acc: 0.3614 - val_loss: 1.8146 - val_acc: 0.3652\n",
    "Epoch 27/50\n",
    "50000/50000 [==============================] - 3s 53us/step - loss: 1.8108 - acc: 0.3631 - val_loss: 1.8069 - val_acc: 0.3641\n",
    "Epoch 28/50\n",
    "50000/50000 [==============================] - 3s 53us/step - loss: 1.8046 - acc: 0.3645 - val_loss: 1.8003 - val_acc: 0.3669\n",
    "Epoch 29/50\n",
    "50000/50000 [==============================] - 3s 53us/step - loss: 1.7994 - acc: 0.3664 - val_loss: 1.7959 - val_acc: 0.3695\n",
    "Epoch 30/50\n",
    "50000/50000 [==============================] - 3s 53us/step - loss: 1.7938 - acc: 0.3686 - val_loss: 1.7898 - val_acc: 0.3727\n",
    "Epoch 31/50\n",
    "50000/50000 [==============================] - 3s 53us/step - loss: 1.7887 - acc: 0.3706 - val_loss: 1.7882 - val_acc: 0.3721\n",
    "Epoch 32/50\n",
    "50000/50000 [==============================] - 3s 53us/step - loss: 1.7837 - acc: 0.3705 - val_loss: 1.7814 - val_acc: 0.3751\n",
    "Epoch 33/50\n",
    "50000/50000 [==============================] - 3s 53us/step - loss: 1.7788 - acc: 0.3740 - val_loss: 1.7744 - val_acc: 0.3798\n",
    "Epoch 34/50\n",
    "50000/50000 [==============================] - 3s 53us/step - loss: 1.7741 - acc: 0.3741 - val_loss: 1.7697 - val_acc: 0.3755\n",
    "Epoch 35/50\n",
    "50000/50000 [==============================] - 3s 53us/step - loss: 1.7696 - acc: 0.3767 - val_loss: 1.7672 - val_acc: 0.3772\n",
    "Epoch 36/50\n",
    "50000/50000 [==============================] - 3s 53us/step - loss: 1.7651 - acc: 0.3792 - val_loss: 1.7614 - val_acc: 0.3824\n",
    "Epoch 37/50\n",
    "50000/50000 [==============================] - 3s 53us/step - loss: 1.7601 - acc: 0.3801 - val_loss: 1.7597 - val_acc: 0.3796\n",
    "Epoch 38/50\n",
    "50000/50000 [==============================] - 3s 53us/step - loss: 1.7556 - acc: 0.3823 - val_loss: 1.7523 - val_acc: 0.3861\n",
    "Epoch 39/50\n",
    "50000/50000 [==============================] - 3s 53us/step - loss: 1.7518 - acc: 0.3831 - val_loss: 1.7501 - val_acc: 0.3844\n",
    "Epoch 40/50\n",
    "50000/50000 [==============================] - 3s 54us/step - loss: 1.7475 - acc: 0.3852 - val_loss: 1.7438 - val_acc: 0.3892\n",
    "Epoch 41/50\n",
    "50000/50000 [==============================] - 3s 54us/step - loss: 1.7434 - acc: 0.3866 - val_loss: 1.7398 - val_acc: 0.3898\n",
    "Epoch 42/50\n",
    "50000/50000 [==============================] - 3s 53us/step - loss: 1.7394 - acc: 0.3867 - val_loss: 1.7362 - val_acc: 0.3916\n",
    "Epoch 43/50\n",
    "50000/50000 [==============================] - 3s 54us/step - loss: 1.7348 - acc: 0.3885 - val_loss: 1.7310 - val_acc: 0.3917\n",
    "Epoch 44/50\n",
    "50000/50000 [==============================] - 3s 61us/step - loss: 1.7314 - acc: 0.3906 - val_loss: 1.7279 - val_acc: 0.3931\n",
    "Epoch 45/50\n",
    "50000/50000 [==============================] - 3s 55us/step - loss: 1.7274 - acc: 0.3928 - val_loss: 1.7239 - val_acc: 0.3955\n",
    "Epoch 46/50\n",
    "50000/50000 [==============================] - 3s 53us/step - loss: 1.7231 - acc: 0.3939 - val_loss: 1.7237 - val_acc: 0.3931\n",
    "Epoch 47/50\n",
    "50000/50000 [==============================] - 3s 53us/step - loss: 1.7193 - acc: 0.3950 - val_loss: 1.7162 - val_acc: 0.3981\n",
    "Epoch 48/50\n",
    "50000/50000 [==============================] - 3s 53us/step - loss: 1.7152 - acc: 0.3957 - val_loss: 1.7140 - val_acc: 0.3941\n",
    "Epoch 49/50\n",
    "50000/50000 [==============================] - 3s 53us/step - loss: 1.7115 - acc: 0.3978 - val_loss: 1.7093 - val_acc: 0.3955\n",
    "Epoch 50/50\n",
    "50000/50000 [==============================] - 3s 52us/step - loss: 1.7081 - acc: 0.3995 - val_loss: 1.7047 - val_acc: 0.3993"
   ]
  },
  {
   "cell_type": "code",
   "execution_count": 9,
   "metadata": {},
   "outputs": [
    {
     "name": "stdout",
     "output_type": "stream",
     "text": [
      "Train on 50000 samples, validate on 10000 samples\n",
      "Epoch 1/50\n",
      "50000/50000 [==============================] - 5s 106us/step - loss: 2.2897 - acc: 0.1473 - val_loss: 2.2685 - val_acc: 0.1648\n",
      "Epoch 2/50\n",
      "50000/50000 [==============================] - 5s 100us/step - loss: 2.2478 - acc: 0.2033 - val_loss: 2.2278 - val_acc: 0.1950\n",
      "Epoch 3/50\n",
      "50000/50000 [==============================] - 5s 99us/step - loss: 2.2034 - acc: 0.2326 - val_loss: 2.1793 - val_acc: 0.1977\n",
      "Epoch 4/50\n",
      "50000/50000 [==============================] - 5s 99us/step - loss: 2.1518 - acc: 0.2537 - val_loss: 2.1254 - val_acc: 0.2545\n",
      "Epoch 5/50\n",
      "50000/50000 [==============================] - 5s 99us/step - loss: 2.1034 - acc: 0.2665 - val_loss: 2.0819 - val_acc: 0.2730\n",
      "Epoch 6/50\n",
      "50000/50000 [==============================] - 5s 101us/step - loss: 2.0647 - acc: 0.2828 - val_loss: 2.0468 - val_acc: 0.2963\n",
      "Epoch 7/50\n",
      "50000/50000 [==============================] - 5s 104us/step - loss: 2.0329 - acc: 0.2908 - val_loss: 2.0165 - val_acc: 0.2994\n",
      "Epoch 8/50\n",
      "50000/50000 [==============================] - 5s 101us/step - loss: 2.0062 - acc: 0.2970 - val_loss: 1.9919 - val_acc: 0.2971\n",
      "Epoch 9/50\n",
      "50000/50000 [==============================] - 5s 99us/step - loss: 1.9834 - acc: 0.3042 - val_loss: 1.9700 - val_acc: 0.3090\n",
      "Epoch 10/50\n",
      "50000/50000 [==============================] - 5s 100us/step - loss: 1.9633 - acc: 0.3065 - val_loss: 1.9527 - val_acc: 0.3129\n",
      "Epoch 11/50\n",
      "50000/50000 [==============================] - 5s 102us/step - loss: 1.9463 - acc: 0.3132 - val_loss: 1.9354 - val_acc: 0.3179\n",
      "Epoch 12/50\n",
      "50000/50000 [==============================] - 5s 102us/step - loss: 1.9304 - acc: 0.3183 - val_loss: 1.9233 - val_acc: 0.3209\n",
      "Epoch 13/50\n",
      "50000/50000 [==============================] - 5s 100us/step - loss: 1.9174 - acc: 0.3231 - val_loss: 1.9091 - val_acc: 0.3220\n",
      "Epoch 14/50\n",
      "50000/50000 [==============================] - 5s 102us/step - loss: 1.9055 - acc: 0.3271 - val_loss: 1.8985 - val_acc: 0.3269\n",
      "Epoch 15/50\n",
      "50000/50000 [==============================] - 5s 108us/step - loss: 1.8950 - acc: 0.3332 - val_loss: 1.8879 - val_acc: 0.3352\n",
      "Epoch 16/50\n",
      "50000/50000 [==============================] - 5s 108us/step - loss: 1.8851 - acc: 0.3356 - val_loss: 1.8799 - val_acc: 0.3369\n",
      "Epoch 17/50\n",
      "50000/50000 [==============================] - 5s 103us/step - loss: 1.8770 - acc: 0.3389 - val_loss: 1.8702 - val_acc: 0.3394\n",
      "Epoch 18/50\n",
      "50000/50000 [==============================] - 5s 103us/step - loss: 1.8688 - acc: 0.3429 - val_loss: 1.8642 - val_acc: 0.3382\n",
      "Epoch 19/50\n",
      "50000/50000 [==============================] - 5s 101us/step - loss: 1.8615 - acc: 0.3447 - val_loss: 1.8555 - val_acc: 0.3468\n",
      "Epoch 20/50\n",
      "50000/50000 [==============================] - 5s 100us/step - loss: 1.8543 - acc: 0.3472 - val_loss: 1.8491 - val_acc: 0.3466\n",
      "Epoch 21/50\n",
      "50000/50000 [==============================] - 5s 101us/step - loss: 1.8473 - acc: 0.3508 - val_loss: 1.8429 - val_acc: 0.3496\n",
      "Epoch 22/50\n",
      "50000/50000 [==============================] - 5s 101us/step - loss: 1.8402 - acc: 0.3543 - val_loss: 1.8366 - val_acc: 0.3501\n",
      "Epoch 23/50\n",
      "50000/50000 [==============================] - 5s 102us/step - loss: 1.8340 - acc: 0.3561 - val_loss: 1.8307 - val_acc: 0.3543\n",
      "Epoch 24/50\n",
      "50000/50000 [==============================] - 5s 101us/step - loss: 1.8275 - acc: 0.3559 - val_loss: 1.8235 - val_acc: 0.3567\n",
      "Epoch 25/50\n",
      "50000/50000 [==============================] - 5s 100us/step - loss: 1.8215 - acc: 0.3595 - val_loss: 1.8165 - val_acc: 0.3615\n",
      "Epoch 26/50\n",
      "50000/50000 [==============================] - 5s 101us/step - loss: 1.8153 - acc: 0.3619 - val_loss: 1.8116 - val_acc: 0.3631\n",
      "Epoch 27/50\n",
      "50000/50000 [==============================] - 5s 101us/step - loss: 1.8096 - acc: 0.3643 - val_loss: 1.8082 - val_acc: 0.3647\n",
      "Epoch 28/50\n",
      "50000/50000 [==============================] - 5s 101us/step - loss: 1.8041 - acc: 0.3645 - val_loss: 1.8004 - val_acc: 0.3664\n",
      "Epoch 29/50\n",
      "50000/50000 [==============================] - 5s 101us/step - loss: 1.7988 - acc: 0.3683 - val_loss: 1.7942 - val_acc: 0.3696\n",
      "Epoch 30/50\n",
      "50000/50000 [==============================] - 5s 101us/step - loss: 1.7935 - acc: 0.3688 - val_loss: 1.7887 - val_acc: 0.3704\n",
      "Epoch 31/50\n",
      "50000/50000 [==============================] - 5s 101us/step - loss: 1.7882 - acc: 0.3693 - val_loss: 1.7852 - val_acc: 0.3727\n",
      "Epoch 32/50\n",
      "50000/50000 [==============================] - 5s 101us/step - loss: 1.7831 - acc: 0.3733 - val_loss: 1.7807 - val_acc: 0.3767\n",
      "Epoch 33/50\n",
      "50000/50000 [==============================] - 5s 103us/step - loss: 1.7789 - acc: 0.3746 - val_loss: 1.7763 - val_acc: 0.3747\n",
      "Epoch 34/50\n",
      "50000/50000 [==============================] - 5s 101us/step - loss: 1.7736 - acc: 0.3758 - val_loss: 1.7714 - val_acc: 0.3771\n",
      "Epoch 35/50\n",
      "50000/50000 [==============================] - 5s 101us/step - loss: 1.7694 - acc: 0.3771 - val_loss: 1.7674 - val_acc: 0.3786\n",
      "Epoch 36/50\n",
      "50000/50000 [==============================] - 5s 104us/step - loss: 1.7649 - acc: 0.3787 - val_loss: 1.7621 - val_acc: 0.3799\n",
      "Epoch 37/50\n",
      "50000/50000 [==============================] - 5s 103us/step - loss: 1.7603 - acc: 0.3804 - val_loss: 1.7581 - val_acc: 0.3848\n",
      "Epoch 38/50\n",
      "50000/50000 [==============================] - 5s 103us/step - loss: 1.7562 - acc: 0.3828 - val_loss: 1.7532 - val_acc: 0.3852\n",
      "Epoch 39/50\n",
      "50000/50000 [==============================] - 5s 103us/step - loss: 1.7517 - acc: 0.3853 - val_loss: 1.7491 - val_acc: 0.3885\n",
      "Epoch 40/50\n",
      "50000/50000 [==============================] - 5s 103us/step - loss: 1.7476 - acc: 0.3856 - val_loss: 1.7439 - val_acc: 0.3903\n",
      "Epoch 41/50\n",
      "50000/50000 [==============================] - 5s 103us/step - loss: 1.7429 - acc: 0.3876 - val_loss: 1.7405 - val_acc: 0.3869\n",
      "Epoch 42/50\n",
      "50000/50000 [==============================] - 5s 103us/step - loss: 1.7393 - acc: 0.3878 - val_loss: 1.7363 - val_acc: 0.3916\n",
      "Epoch 43/50\n",
      "50000/50000 [==============================] - 5s 103us/step - loss: 1.7349 - acc: 0.3908 - val_loss: 1.7320 - val_acc: 0.3941\n",
      "Epoch 44/50\n",
      "50000/50000 [==============================] - 5s 103us/step - loss: 1.7308 - acc: 0.3918 - val_loss: 1.7265 - val_acc: 0.3945\n",
      "Epoch 45/50\n",
      "50000/50000 [==============================] - 5s 103us/step - loss: 1.7266 - acc: 0.3925 - val_loss: 1.7247 - val_acc: 0.3967\n",
      "Epoch 46/50\n",
      "50000/50000 [==============================] - 5s 104us/step - loss: 1.7227 - acc: 0.3950 - val_loss: 1.7206 - val_acc: 0.3991\n",
      "Epoch 47/50\n",
      "50000/50000 [==============================] - 5s 104us/step - loss: 1.7187 - acc: 0.3966 - val_loss: 1.7178 - val_acc: 0.3959\n",
      "Epoch 48/50\n",
      "50000/50000 [==============================] - 5s 104us/step - loss: 1.7145 - acc: 0.3968 - val_loss: 1.7128 - val_acc: 0.4042\n",
      "Epoch 49/50\n",
      "50000/50000 [==============================] - 5s 103us/step - loss: 1.7109 - acc: 0.3981 - val_loss: 1.7109 - val_acc: 0.3951\n",
      "Epoch 50/50\n",
      "50000/50000 [==============================] - 5s 104us/step - loss: 1.7067 - acc: 0.3997 - val_loss: 1.7085 - val_acc: 0.3990\n"
     ]
    },
    {
     "data": {
      "text/plain": [
       "<keras.callbacks.History at 0x28ccfde62e8>"
      ]
     },
     "execution_count": 9,
     "metadata": {},
     "output_type": "execute_result"
    }
   ],
   "source": [
    "model.fit(x_train, y_train, batch_size=100, epochs=50, verbose=1, validation_data=(x_test, y_test))"
   ]
  },
  {
   "cell_type": "code",
   "execution_count": 11,
   "metadata": {},
   "outputs": [
    {
     "name": "stdout",
     "output_type": "stream",
     "text": [
      "10000/10000 [==============================] - 0s 39us/step\n"
     ]
    },
    {
     "data": {
      "text/plain": [
       "[1.7084670711517334, 0.399]"
      ]
     },
     "execution_count": 11,
     "metadata": {},
     "output_type": "execute_result"
    }
   ],
   "source": [
    "score = model.evaluate(x_test, y_test)\n",
    "score"
   ]
  },
  {
   "cell_type": "code",
   "execution_count": null,
   "metadata": {},
   "outputs": [],
   "source": []
  }
 ],
 "metadata": {
  "kernelspec": {
   "display_name": "Python 3",
   "language": "python",
   "name": "python3"
  },
  "language_info": {
   "codemirror_mode": {
    "name": "ipython",
    "version": 3
   },
   "file_extension": ".py",
   "mimetype": "text/x-python",
   "name": "python",
   "nbconvert_exporter": "python",
   "pygments_lexer": "ipython3",
   "version": "3.6.5"
  }
 },
 "nbformat": 4,
 "nbformat_minor": 2
}

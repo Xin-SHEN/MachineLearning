{
 "cells": [
  {
   "cell_type": "code",
   "execution_count": 1,
   "metadata": {},
   "outputs": [
    {
     "name": "stderr",
     "output_type": "stream",
     "text": [
      "Using TensorFlow backend.\n"
     ]
    }
   ],
   "source": [
    "import os\n",
    "os.environ['CUDA_VISIBLE_DEVICES'] = '-1'\n",
    "\n",
    "import keras\n",
    "from keras.models import Sequential\n",
    "from keras.layers import Dense\n",
    "from keras.datasets import cifar10\n",
    "(x_train, y_train), (x_test, y_test) = cifar10.load_data()\n",
    "\n",
    "# def unpickle(file):\n",
    "#     import pickle\n",
    "#     with open(file, 'rb') as fo:\n",
    "#         dict = pickle.load(fo, encoding='bytes')\n",
    "#     return dict"
   ]
  },
  {
   "cell_type": "code",
   "execution_count": 2,
   "metadata": {},
   "outputs": [
    {
     "data": {
      "text/plain": [
       "(50000, 32, 32, 3)"
      ]
     },
     "execution_count": 2,
     "metadata": {},
     "output_type": "execute_result"
    }
   ],
   "source": [
    "x_train.shape"
   ]
  },
  {
   "cell_type": "code",
   "execution_count": 3,
   "metadata": {},
   "outputs": [
    {
     "data": {
      "text/plain": [
       "(50000, 3072)"
      ]
     },
     "execution_count": 3,
     "metadata": {},
     "output_type": "execute_result"
    }
   ],
   "source": [
    "x_train = x_train.reshape((50000,32*32*3))\n",
    "x_test = x_test.reshape((10000,32*32*3))\n",
    "\n",
    "x_train = x_train.astype('float32')/255.\n",
    "x_test = x_test.astype('float32')/255.\n",
    "x_train.shape"
   ]
  },
  {
   "cell_type": "code",
   "execution_count": 4,
   "metadata": {},
   "outputs": [
    {
     "data": {
      "text/plain": [
       "array([0.23137255, 0.24313726, 0.24705882, ..., 0.48235294, 0.36078432,\n",
       "       0.28235295], dtype=float32)"
      ]
     },
     "execution_count": 4,
     "metadata": {},
     "output_type": "execute_result"
    }
   ],
   "source": [
    "x_train[0]"
   ]
  },
  {
   "cell_type": "code",
   "execution_count": 5,
   "metadata": {},
   "outputs": [],
   "source": [
    "y_train = keras.utils.to_categorical(y_train,10)\n",
    "y_test = keras.utils.to_categorical(y_test,10)"
   ]
  },
  {
   "cell_type": "code",
   "execution_count": 6,
   "metadata": {},
   "outputs": [
    {
     "data": {
      "text/plain": [
       "array([[0., 0., 0., 0., 0., 0., 1., 0., 0., 0.],\n",
       "       [0., 0., 0., 0., 0., 0., 0., 0., 0., 1.],\n",
       "       [0., 0., 0., 0., 0., 0., 0., 0., 0., 1.],\n",
       "       [0., 0., 0., 0., 1., 0., 0., 0., 0., 0.],\n",
       "       [0., 1., 0., 0., 0., 0., 0., 0., 0., 0.],\n",
       "       [0., 1., 0., 0., 0., 0., 0., 0., 0., 0.],\n",
       "       [0., 0., 1., 0., 0., 0., 0., 0., 0., 0.],\n",
       "       [0., 0., 0., 0., 0., 0., 0., 1., 0., 0.],\n",
       "       [0., 0., 0., 0., 0., 0., 0., 0., 1., 0.],\n",
       "       [0., 0., 0., 1., 0., 0., 0., 0., 0., 0.]], dtype=float32)"
      ]
     },
     "execution_count": 6,
     "metadata": {},
     "output_type": "execute_result"
    }
   ],
   "source": [
    "y_train[:10]"
   ]
  },
  {
   "cell_type": "code",
   "execution_count": 7,
   "metadata": {},
   "outputs": [
    {
     "name": "stdout",
     "output_type": "stream",
     "text": [
      "_________________________________________________________________\n",
      "Layer (type)                 Output Shape              Param #   \n",
      "=================================================================\n",
      "dense_1 (Dense)              (None, 256)               786688    \n",
      "_________________________________________________________________\n",
      "dense_2 (Dense)              (None, 256)               65792     \n",
      "_________________________________________________________________\n",
      "dense_3 (Dense)              (None, 10)                2570      \n",
      "=================================================================\n",
      "Total params: 855,050\n",
      "Trainable params: 855,050\n",
      "Non-trainable params: 0\n",
      "_________________________________________________________________\n"
     ]
    }
   ],
   "source": [
    "model = Sequential()\n",
    "model.add(Dense(256, activation='sigmoid', input_dim=32*32*3))\n",
    "model.add(Dense(256, activation='sigmoid'))\n",
    "model.add(Dense(10, activation='softmax'))\n",
    "model.summary()"
   ]
  },
  {
   "cell_type": "code",
   "execution_count": 8,
   "metadata": {},
   "outputs": [],
   "source": [
    "model.compile(loss='categorical_crossentropy', optimizer='sgd', metrics=['accuracy'])"
   ]
  },
  {
   "cell_type": "markdown",
   "metadata": {},
   "source": [
    "### Run on GPU : GTX1080\n",
    "\n",
    "Train on 50000 samples, validate on 10000 samples\n",
    "\n",
    "Epoch 1/50\n",
    "50000/50000 [==============================] - 5s 107us/step - loss: 2.2907 - acc: 0.1498 - val_loss: 2.2691 - val_acc: 0.1878\n",
    "Epoch 2/50\n",
    "50000/50000 [==============================] - 3s 53us/step - loss: 2.2505 - acc: 0.2053 - val_loss: 2.2295 - val_acc: 0.2261\n",
    "Epoch 3/50\n",
    "50000/50000 [==============================] - 3s 53us/step - loss: 2.2059 - acc: 0.2366 - val_loss: 2.1797 - val_acc: 0.2443\n",
    "Epoch 4/50\n",
    "50000/50000 [==============================] - 3s 53us/step - loss: 2.1534 - acc: 0.2548 - val_loss: 2.1285 - val_acc: 0.2309\n",
    "Epoch 5/50\n",
    "50000/50000 [==============================] - 3s 53us/step - loss: 2.1035 - acc: 0.2656 - val_loss: 2.0817 - val_acc: 0.2827\n",
    "Epoch 6/50\n",
    "50000/50000 [==============================] - 3s 52us/step - loss: 2.0626 - acc: 0.2756 - val_loss: 2.0448 - val_acc: 0.2775\n",
    "Epoch 7/50\n",
    "50000/50000 [==============================] - 3s 52us/step - loss: 2.0299 - acc: 0.2863 - val_loss: 2.0152 - val_acc: 0.2890\n",
    "Epoch 8/50\n",
    "50000/50000 [==============================] - 3s 52us/step - loss: 2.0027 - acc: 0.2917 - val_loss: 1.9907 - val_acc: 0.2985\n",
    "Epoch 9/50\n",
    "50000/50000 [==============================] - 3s 52us/step - loss: 1.9802 - acc: 0.2957 - val_loss: 1.9696 - val_acc: 0.3024\n",
    "Epoch 10/50\n",
    "50000/50000 [==============================] - 3s 54us/step - loss: 1.9611 - acc: 0.3037 - val_loss: 1.9540 - val_acc: 0.3083\n",
    "Epoch 11/50\n",
    "50000/50000 [==============================] - 3s 53us/step - loss: 1.9450 - acc: 0.3105 - val_loss: 1.9400 - val_acc: 0.3062\n",
    "Epoch 12/50\n",
    "50000/50000 [==============================] - 3s 52us/step - loss: 1.9308 - acc: 0.3177 - val_loss: 1.9254 - val_acc: 0.3230\n",
    "Epoch 13/50\n",
    "50000/50000 [==============================] - 3s 52us/step - loss: 1.9185 - acc: 0.3215 - val_loss: 1.9126 - val_acc: 0.3204\n",
    "Epoch 14/50\n",
    "50000/50000 [==============================] - 3s 53us/step - loss: 1.9076 - acc: 0.3257 - val_loss: 1.9013 - val_acc: 0.3270\n",
    "Epoch 15/50\n",
    "50000/50000 [==============================] - 3s 53us/step - loss: 1.8976 - acc: 0.3295 - val_loss: 1.8925 - val_acc: 0.3354\n",
    "Epoch 16/50\n",
    "50000/50000 [==============================] - 3s 53us/step - loss: 1.8885 - acc: 0.3334 - val_loss: 1.8833 - val_acc: 0.3364\n",
    "Epoch 17/50\n",
    "50000/50000 [==============================] - 3s 54us/step - loss: 1.8803 - acc: 0.3390 - val_loss: 1.8754 - val_acc: 0.3375\n",
    "Epoch 18/50\n",
    "50000/50000 [==============================] - 3s 53us/step - loss: 1.8720 - acc: 0.3421 - val_loss: 1.8680 - val_acc: 0.3391\n",
    "Epoch 19/50\n",
    "50000/50000 [==============================] - 3s 53us/step - loss: 1.8646 - acc: 0.3439 - val_loss: 1.8612 - val_acc: 0.3450\n",
    "Epoch 20/50\n",
    "50000/50000 [==============================] - 3s 52us/step - loss: 1.8571 - acc: 0.3490 - val_loss: 1.8545 - val_acc: 0.3456\n",
    "Epoch 21/50\n",
    "50000/50000 [==============================] - 3s 53us/step - loss: 1.8502 - acc: 0.3484 - val_loss: 1.8461 - val_acc: 0.3538\n",
    "Epoch 22/50\n",
    "50000/50000 [==============================] - 3s 53us/step - loss: 1.8431 - acc: 0.3516 - val_loss: 1.8396 - val_acc: 0.3519\n",
    "Epoch 23/50\n",
    "50000/50000 [==============================] - 3s 54us/step - loss: 1.8361 - acc: 0.3549 - val_loss: 1.8367 - val_acc: 0.3587\n",
    "Epoch 24/50\n",
    "50000/50000 [==============================] - 3s 54us/step - loss: 1.8292 - acc: 0.3573 - val_loss: 1.8279 - val_acc: 0.3562\n",
    "Epoch 25/50\n",
    "50000/50000 [==============================] - 3s 52us/step - loss: 1.8229 - acc: 0.3601 - val_loss: 1.8206 - val_acc: 0.3582\n",
    "Epoch 26/50\n",
    "50000/50000 [==============================] - 3s 53us/step - loss: 1.8164 - acc: 0.3614 - val_loss: 1.8146 - val_acc: 0.3652\n",
    "Epoch 27/50\n",
    "50000/50000 [==============================] - 3s 53us/step - loss: 1.8108 - acc: 0.3631 - val_loss: 1.8069 - val_acc: 0.3641\n",
    "Epoch 28/50\n",
    "50000/50000 [==============================] - 3s 53us/step - loss: 1.8046 - acc: 0.3645 - val_loss: 1.8003 - val_acc: 0.3669\n",
    "Epoch 29/50\n",
    "50000/50000 [==============================] - 3s 53us/step - loss: 1.7994 - acc: 0.3664 - val_loss: 1.7959 - val_acc: 0.3695\n",
    "Epoch 30/50\n",
    "50000/50000 [==============================] - 3s 53us/step - loss: 1.7938 - acc: 0.3686 - val_loss: 1.7898 - val_acc: 0.3727\n",
    "Epoch 31/50\n",
    "50000/50000 [==============================] - 3s 53us/step - loss: 1.7887 - acc: 0.3706 - val_loss: 1.7882 - val_acc: 0.3721\n",
    "Epoch 32/50\n",
    "50000/50000 [==============================] - 3s 53us/step - loss: 1.7837 - acc: 0.3705 - val_loss: 1.7814 - val_acc: 0.3751\n",
    "Epoch 33/50\n",
    "50000/50000 [==============================] - 3s 53us/step - loss: 1.7788 - acc: 0.3740 - val_loss: 1.7744 - val_acc: 0.3798\n",
    "Epoch 34/50\n",
    "50000/50000 [==============================] - 3s 53us/step - loss: 1.7741 - acc: 0.3741 - val_loss: 1.7697 - val_acc: 0.3755\n",
    "Epoch 35/50\n",
    "50000/50000 [==============================] - 3s 53us/step - loss: 1.7696 - acc: 0.3767 - val_loss: 1.7672 - val_acc: 0.3772\n",
    "Epoch 36/50\n",
    "50000/50000 [==============================] - 3s 53us/step - loss: 1.7651 - acc: 0.3792 - val_loss: 1.7614 - val_acc: 0.3824\n",
    "Epoch 37/50\n",
    "50000/50000 [==============================] - 3s 53us/step - loss: 1.7601 - acc: 0.3801 - val_loss: 1.7597 - val_acc: 0.3796\n",
    "Epoch 38/50\n",
    "50000/50000 [==============================] - 3s 53us/step - loss: 1.7556 - acc: 0.3823 - val_loss: 1.7523 - val_acc: 0.3861\n",
    "Epoch 39/50\n",
    "50000/50000 [==============================] - 3s 53us/step - loss: 1.7518 - acc: 0.3831 - val_loss: 1.7501 - val_acc: 0.3844\n",
    "Epoch 40/50\n",
    "50000/50000 [==============================] - 3s 54us/step - loss: 1.7475 - acc: 0.3852 - val_loss: 1.7438 - val_acc: 0.3892\n",
    "Epoch 41/50\n",
    "50000/50000 [==============================] - 3s 54us/step - loss: 1.7434 - acc: 0.3866 - val_loss: 1.7398 - val_acc: 0.3898\n",
    "Epoch 42/50\n",
    "50000/50000 [==============================] - 3s 53us/step - loss: 1.7394 - acc: 0.3867 - val_loss: 1.7362 - val_acc: 0.3916\n",
    "Epoch 43/50\n",
    "50000/50000 [==============================] - 3s 54us/step - loss: 1.7348 - acc: 0.3885 - val_loss: 1.7310 - val_acc: 0.3917\n",
    "Epoch 44/50\n",
    "50000/50000 [==============================] - 3s 61us/step - loss: 1.7314 - acc: 0.3906 - val_loss: 1.7279 - val_acc: 0.3931\n",
    "Epoch 45/50\n",
    "50000/50000 [==============================] - 3s 55us/step - loss: 1.7274 - acc: 0.3928 - val_loss: 1.7239 - val_acc: 0.3955\n",
    "Epoch 46/50\n",
    "50000/50000 [==============================] - 3s 53us/step - loss: 1.7231 - acc: 0.3939 - val_loss: 1.7237 - val_acc: 0.3931\n",
    "Epoch 47/50\n",
    "50000/50000 [==============================] - 3s 53us/step - loss: 1.7193 - acc: 0.3950 - val_loss: 1.7162 - val_acc: 0.3981\n",
    "Epoch 48/50\n",
    "50000/50000 [==============================] - 3s 53us/step - loss: 1.7152 - acc: 0.3957 - val_loss: 1.7140 - val_acc: 0.3941\n",
    "Epoch 49/50\n",
    "50000/50000 [==============================] - 3s 53us/step - loss: 1.7115 - acc: 0.3978 - val_loss: 1.7093 - val_acc: 0.3955\n",
    "Epoch 50/50\n",
    "50000/50000 [==============================] - 3s 52us/step - loss: 1.7081 - acc: 0.3995 - val_loss: 1.7047 - val_acc: 0.3993"
   ]
  },
  {
   "cell_type": "code",
   "execution_count": 9,
   "metadata": {},
   "outputs": [
    {
     "name": "stdout",
     "output_type": "stream",
     "text": [
      "Train on 50000 samples, validate on 10000 samples\n",
      "Epoch 1/50\n",
      "50000/50000 [==============================] - 4s 83us/step - loss: 2.2825 - acc: 0.1613 - val_loss: 2.2628 - val_acc: 0.2126\n",
      "Epoch 2/50\n",
      "50000/50000 [==============================] - 4s 81us/step - loss: 2.2432 - acc: 0.2130 - val_loss: 2.2199 - val_acc: 0.2550\n",
      "Epoch 3/50\n",
      "50000/50000 [==============================] - 4s 80us/step - loss: 2.1965 - acc: 0.2390 - val_loss: 2.1687 - val_acc: 0.2678\n",
      "Epoch 4/50\n",
      "50000/50000 [==============================] - 4s 88us/step - loss: 2.1432 - acc: 0.2599 - val_loss: 2.1162 - val_acc: 0.2821\n",
      "Epoch 5/50\n",
      "50000/50000 [==============================] - 4s 84us/step - loss: 2.0942 - acc: 0.2718 - val_loss: 2.0728 - val_acc: 0.2732\n",
      "Epoch 6/50\n",
      "50000/50000 [==============================] - 4s 83us/step - loss: 2.0549 - acc: 0.2828 - val_loss: 2.0370 - val_acc: 0.2904\n",
      "Epoch 7/50\n",
      "50000/50000 [==============================] - 4s 85us/step - loss: 2.0232 - acc: 0.2907 - val_loss: 2.0074 - val_acc: 0.2843\n",
      "Epoch 8/50\n",
      "50000/50000 [==============================] - 4s 86us/step - loss: 1.9962 - acc: 0.2961 - val_loss: 1.9827 - val_acc: 0.2997\n",
      "Epoch 9/50\n",
      "50000/50000 [==============================] - 4s 86us/step - loss: 1.9738 - acc: 0.3026 - val_loss: 1.9635 - val_acc: 0.3073\n",
      "Epoch 10/50\n",
      "50000/50000 [==============================] - 4s 87us/step - loss: 1.9547 - acc: 0.3079 - val_loss: 1.9439 - val_acc: 0.3132\n",
      "Epoch 11/50\n",
      "50000/50000 [==============================] - 4s 87us/step - loss: 1.9386 - acc: 0.3134 - val_loss: 1.9295 - val_acc: 0.3238\n",
      "Epoch 12/50\n",
      "50000/50000 [==============================] - 4s 88us/step - loss: 1.9244 - acc: 0.3196 - val_loss: 1.9144 - val_acc: 0.3247\n",
      "Epoch 13/50\n",
      "50000/50000 [==============================] - 4s 89us/step - loss: 1.9117 - acc: 0.3250 - val_loss: 1.9039 - val_acc: 0.3260\n",
      "Epoch 14/50\n",
      "50000/50000 [==============================] - 4s 89us/step - loss: 1.9006 - acc: 0.3275 - val_loss: 1.8939 - val_acc: 0.3330\n",
      "Epoch 15/50\n",
      "50000/50000 [==============================] - 4s 88us/step - loss: 1.8905 - acc: 0.3342 - val_loss: 1.8855 - val_acc: 0.3269\n",
      "Epoch 16/50\n",
      "50000/50000 [==============================] - 4s 88us/step - loss: 1.8816 - acc: 0.3374 - val_loss: 1.8758 - val_acc: 0.3401\n",
      "Epoch 17/50\n",
      "50000/50000 [==============================] - 4s 89us/step - loss: 1.8735 - acc: 0.3407 - val_loss: 1.8697 - val_acc: 0.3405\n",
      "Epoch 18/50\n",
      "50000/50000 [==============================] - 4s 89us/step - loss: 1.8656 - acc: 0.3437 - val_loss: 1.8611 - val_acc: 0.3473\n",
      "Epoch 19/50\n",
      "50000/50000 [==============================] - 4s 88us/step - loss: 1.8580 - acc: 0.3469 - val_loss: 1.8531 - val_acc: 0.3497\n",
      "Epoch 20/50\n",
      "50000/50000 [==============================] - 4s 90us/step - loss: 1.8509 - acc: 0.3483 - val_loss: 1.8492 - val_acc: 0.3461\n",
      "Epoch 21/50\n",
      "50000/50000 [==============================] - 4s 90us/step - loss: 1.8439 - acc: 0.3533 - val_loss: 1.8411 - val_acc: 0.3529\n",
      "Epoch 22/50\n",
      "50000/50000 [==============================] - 4s 90us/step - loss: 1.8374 - acc: 0.3544 - val_loss: 1.8338 - val_acc: 0.3545\n",
      "Epoch 23/50\n",
      "50000/50000 [==============================] - 5s 90us/step - loss: 1.8308 - acc: 0.3562 - val_loss: 1.8283 - val_acc: 0.3539\n",
      "Epoch 24/50\n",
      "50000/50000 [==============================] - 5s 90us/step - loss: 1.8246 - acc: 0.3574 - val_loss: 1.8207 - val_acc: 0.3647\n",
      "Epoch 25/50\n",
      "50000/50000 [==============================] - 5s 91us/step - loss: 1.8187 - acc: 0.3599 - val_loss: 1.8139 - val_acc: 0.3597\n",
      "Epoch 26/50\n",
      "50000/50000 [==============================] - 4s 90us/step - loss: 1.8131 - acc: 0.3634 - val_loss: 1.8094 - val_acc: 0.3640\n",
      "Epoch 27/50\n",
      "50000/50000 [==============================] - 4s 87us/step - loss: 1.8076 - acc: 0.3639 - val_loss: 1.8032 - val_acc: 0.3696\n",
      "Epoch 28/50\n",
      "50000/50000 [==============================] - 4s 88us/step - loss: 1.8022 - acc: 0.3658 - val_loss: 1.7984 - val_acc: 0.3717\n",
      "Epoch 29/50\n",
      "50000/50000 [==============================] - 5s 91us/step - loss: 1.7974 - acc: 0.3667 - val_loss: 1.7941 - val_acc: 0.3646\n",
      "Epoch 30/50\n",
      "50000/50000 [==============================] - 4s 90us/step - loss: 1.7924 - acc: 0.3691 - val_loss: 1.7893 - val_acc: 0.3677\n",
      "Epoch 31/50\n",
      "50000/50000 [==============================] - 4s 90us/step - loss: 1.7876 - acc: 0.3713 - val_loss: 1.7832 - val_acc: 0.3713\n",
      "Epoch 32/50\n",
      "50000/50000 [==============================] - 5s 90us/step - loss: 1.7826 - acc: 0.3716 - val_loss: 1.7783 - val_acc: 0.3744\n",
      "Epoch 33/50\n",
      "50000/50000 [==============================] - 5s 90us/step - loss: 1.7782 - acc: 0.3741 - val_loss: 1.7737 - val_acc: 0.3781\n",
      "Epoch 34/50\n",
      "50000/50000 [==============================] - 5s 91us/step - loss: 1.7740 - acc: 0.3749 - val_loss: 1.7699 - val_acc: 0.3792\n",
      "Epoch 35/50\n",
      "50000/50000 [==============================] - 5s 94us/step - loss: 1.7694 - acc: 0.3779 - val_loss: 1.7645 - val_acc: 0.3784\n",
      "Epoch 36/50\n",
      "50000/50000 [==============================] - 5s 92us/step - loss: 1.7657 - acc: 0.3783 - val_loss: 1.7619 - val_acc: 0.3782\n",
      "Epoch 37/50\n",
      "50000/50000 [==============================] - 5s 90us/step - loss: 1.7612 - acc: 0.3802 - val_loss: 1.7577 - val_acc: 0.3790\n",
      "Epoch 38/50\n",
      "50000/50000 [==============================] - 5s 94us/step - loss: 1.7571 - acc: 0.3825 - val_loss: 1.7547 - val_acc: 0.3859\n",
      "Epoch 39/50\n",
      "50000/50000 [==============================] - 5s 91us/step - loss: 1.7530 - acc: 0.3848 - val_loss: 1.7491 - val_acc: 0.3840\n",
      "Epoch 40/50\n",
      "50000/50000 [==============================] - 5s 91us/step - loss: 1.7488 - acc: 0.3865 - val_loss: 1.7462 - val_acc: 0.3853\n",
      "Epoch 41/50\n",
      "50000/50000 [==============================] - 5s 91us/step - loss: 1.7446 - acc: 0.3874 - val_loss: 1.7400 - val_acc: 0.3872\n",
      "Epoch 42/50\n",
      "50000/50000 [==============================] - 5s 91us/step - loss: 1.7410 - acc: 0.3885 - val_loss: 1.7378 - val_acc: 0.3935\n",
      "Epoch 43/50\n",
      "50000/50000 [==============================] - 5s 92us/step - loss: 1.7367 - acc: 0.3895 - val_loss: 1.7339 - val_acc: 0.3905\n",
      "Epoch 44/50\n",
      "50000/50000 [==============================] - 5s 92us/step - loss: 1.7329 - acc: 0.3920 - val_loss: 1.7278 - val_acc: 0.3947\n",
      "Epoch 45/50\n",
      "50000/50000 [==============================] - 5s 92us/step - loss: 1.7291 - acc: 0.3922 - val_loss: 1.7262 - val_acc: 0.3950\n",
      "Epoch 46/50\n",
      "50000/50000 [==============================] - 5s 92us/step - loss: 1.7252 - acc: 0.3953 - val_loss: 1.7240 - val_acc: 0.3961\n",
      "Epoch 47/50\n",
      "50000/50000 [==============================] - 5s 92us/step - loss: 1.7211 - acc: 0.3940 - val_loss: 1.7194 - val_acc: 0.3960\n",
      "Epoch 48/50\n",
      "50000/50000 [==============================] - 5s 92us/step - loss: 1.7177 - acc: 0.3959 - val_loss: 1.7135 - val_acc: 0.3965\n",
      "Epoch 49/50\n",
      "50000/50000 [==============================] - 5s 92us/step - loss: 1.7137 - acc: 0.3974 - val_loss: 1.7097 - val_acc: 0.3995\n",
      "Epoch 50/50\n",
      "50000/50000 [==============================] - 5s 92us/step - loss: 1.7099 - acc: 0.3994 - val_loss: 1.7082 - val_acc: 0.4040\n"
     ]
    },
    {
     "data": {
      "text/plain": [
       "<keras.callbacks.History at 0x11ce6dac8>"
      ]
     },
     "execution_count": 9,
     "metadata": {},
     "output_type": "execute_result"
    }
   ],
   "source": [
    "model.fit(x_train, y_train, batch_size=100, epochs=50, verbose=1, validation_data=(x_test, y_test))"
   ]
  },
  {
   "cell_type": "code",
   "execution_count": 10,
   "metadata": {},
   "outputs": [
    {
     "name": "stdout",
     "output_type": "stream",
     "text": [
      "10000/10000 [==============================] - 0s 49us/step\n"
     ]
    },
    {
     "data": {
      "text/plain": [
       "[1.7081721117019653, 0.404]"
      ]
     },
     "execution_count": 10,
     "metadata": {},
     "output_type": "execute_result"
    }
   ],
   "source": [
    "score = model.evaluate(x_test, y_test)\n",
    "score"
   ]
  },
  {
   "cell_type": "code",
   "execution_count": null,
   "metadata": {},
   "outputs": [],
   "source": []
  }
 ],
 "metadata": {
  "kernelspec": {
   "display_name": "Python 3",
   "language": "python",
   "name": "python3"
  },
  "language_info": {
   "codemirror_mode": {
    "name": "ipython",
    "version": 3
   },
   "file_extension": ".py",
   "mimetype": "text/x-python",
   "name": "python",
   "nbconvert_exporter": "python",
   "pygments_lexer": "ipython3",
   "version": "3.6.5"
  }
 },
 "nbformat": 4,
 "nbformat_minor": 2
}

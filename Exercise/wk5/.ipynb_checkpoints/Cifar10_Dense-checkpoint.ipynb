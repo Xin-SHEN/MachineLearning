{
 "cells": [
  {
   "cell_type": "code",
   "execution_count": 1,
   "metadata": {},
   "outputs": [
    {
     "name": "stderr",
     "output_type": "stream",
     "text": [
      "C:\\ProgramData\\Anaconda3\\lib\\site-packages\\h5py\\__init__.py:36: FutureWarning: Conversion of the second argument of issubdtype from `float` to `np.floating` is deprecated. In future, it will be treated as `np.float64 == np.dtype(float).type`.\n",
      "  from ._conv import register_converters as _register_converters\n",
      "Using TensorFlow backend.\n"
     ]
    }
   ],
   "source": [
    "# import os\n",
    "# os.environ['CUDA_VISIBLE_DEVICES'] = '-1'\n",
    "\n",
    "import keras\n",
    "from keras.models import Sequential\n",
    "from keras.layers import Dense\n",
    "from keras.datasets import cifar10\n",
    "(x_train, y_train), (x_test, y_test) = cifar10.load_data()\n",
    "\n",
    "# def unpickle(file):\n",
    "#     import pickle\n",
    "#     with open(file, 'rb') as fo:\n",
    "#         dict = pickle.load(fo, encoding='bytes')\n",
    "#     return dict"
   ]
  },
  {
   "cell_type": "code",
   "execution_count": 2,
   "metadata": {},
   "outputs": [
    {
     "data": {
      "text/plain": [
       "(50000, 32, 32, 3)"
      ]
     },
     "execution_count": 2,
     "metadata": {},
     "output_type": "execute_result"
    }
   ],
   "source": [
    "x_train.shape"
   ]
  },
  {
   "cell_type": "code",
   "execution_count": 3,
   "metadata": {},
   "outputs": [
    {
     "data": {
      "text/plain": [
       "(50000, 3072)"
      ]
     },
     "execution_count": 3,
     "metadata": {},
     "output_type": "execute_result"
    }
   ],
   "source": [
    "x_train = x_train.reshape((50000,32*32*3))\n",
    "x_test = x_test.reshape((10000,32*32*3))\n",
    "\n",
    "x_train = x_train.astype('float32')/255.\n",
    "x_test = x_test.astype('float32')/255.\n",
    "x_train.shape"
   ]
  },
  {
   "cell_type": "code",
   "execution_count": 4,
   "metadata": {},
   "outputs": [
    {
     "data": {
      "text/plain": [
       "array([0.23137255, 0.24313726, 0.24705882, ..., 0.48235294, 0.36078432,\n",
       "       0.28235295], dtype=float32)"
      ]
     },
     "execution_count": 4,
     "metadata": {},
     "output_type": "execute_result"
    }
   ],
   "source": [
    "x_train[0]"
   ]
  },
  {
   "cell_type": "code",
   "execution_count": 5,
   "metadata": {},
   "outputs": [],
   "source": [
    "y_train = keras.utils.to_categorical(y_train,10)\n",
    "y_test = keras.utils.to_categorical(y_test,10)"
   ]
  },
  {
   "cell_type": "code",
   "execution_count": 6,
   "metadata": {},
   "outputs": [
    {
     "data": {
      "text/plain": [
       "array([[0., 0., 0., 0., 0., 0., 1., 0., 0., 0.],\n",
       "       [0., 0., 0., 0., 0., 0., 0., 0., 0., 1.],\n",
       "       [0., 0., 0., 0., 0., 0., 0., 0., 0., 1.],\n",
       "       [0., 0., 0., 0., 1., 0., 0., 0., 0., 0.],\n",
       "       [0., 1., 0., 0., 0., 0., 0., 0., 0., 0.],\n",
       "       [0., 1., 0., 0., 0., 0., 0., 0., 0., 0.],\n",
       "       [0., 0., 1., 0., 0., 0., 0., 0., 0., 0.],\n",
       "       [0., 0., 0., 0., 0., 0., 0., 1., 0., 0.],\n",
       "       [0., 0., 0., 0., 0., 0., 0., 0., 1., 0.],\n",
       "       [0., 0., 0., 1., 0., 0., 0., 0., 0., 0.]], dtype=float32)"
      ]
     },
     "execution_count": 6,
     "metadata": {},
     "output_type": "execute_result"
    }
   ],
   "source": [
    "y_train[:10]"
   ]
  },
  {
   "cell_type": "code",
   "execution_count": 7,
   "metadata": {},
   "outputs": [
    {
     "name": "stdout",
     "output_type": "stream",
     "text": [
      "_________________________________________________________________\n",
      "Layer (type)                 Output Shape              Param #   \n",
      "=================================================================\n",
      "dense_1 (Dense)              (None, 256)               786688    \n",
      "_________________________________________________________________\n",
      "dense_2 (Dense)              (None, 256)               65792     \n",
      "_________________________________________________________________\n",
      "dense_3 (Dense)              (None, 10)                2570      \n",
      "=================================================================\n",
      "Total params: 855,050\n",
      "Trainable params: 855,050\n",
      "Non-trainable params: 0\n",
      "_________________________________________________________________\n"
     ]
    }
   ],
   "source": [
    "model = Sequential()\n",
    "model.add(Dense(256, activation='sigmoid', input_dim=32*32*3))\n",
    "model.add(Dense(256, activation='sigmoid'))\n",
    "model.add(Dense(10, activation='softmax'))\n",
    "model.summary()"
   ]
  },
  {
   "cell_type": "code",
   "execution_count": 8,
   "metadata": {},
   "outputs": [],
   "source": [
    "model.compile(loss='categorical_crossentropy', optimizer='sgd', metrics=['accuracy'])"
   ]
  },
  {
   "cell_type": "markdown",
   "metadata": {},
   "source": [
    "### Run on GPU : GTX1080\n",
    "\n",
    "Train on 50000 samples, validate on 10000 samples\n",
    "\n",
    "Epoch 1/50\n",
    "50000/50000 [==============================] - 5s 107us/step - loss: 2.2907 - acc: 0.1498 - val_loss: 2.2691 - val_acc: 0.1878\n",
    "Epoch 2/50\n",
    "50000/50000 [==============================] - 3s 53us/step - loss: 2.2505 - acc: 0.2053 - val_loss: 2.2295 - val_acc: 0.2261\n",
    "Epoch 3/50\n",
    "50000/50000 [==============================] - 3s 53us/step - loss: 2.2059 - acc: 0.2366 - val_loss: 2.1797 - val_acc: 0.2443\n",
    "Epoch 4/50\n",
    "50000/50000 [==============================] - 3s 53us/step - loss: 2.1534 - acc: 0.2548 - val_loss: 2.1285 - val_acc: 0.2309\n",
    "Epoch 5/50\n",
    "50000/50000 [==============================] - 3s 53us/step - loss: 2.1035 - acc: 0.2656 - val_loss: 2.0817 - val_acc: 0.2827\n",
    "Epoch 6/50\n",
    "50000/50000 [==============================] - 3s 52us/step - loss: 2.0626 - acc: 0.2756 - val_loss: 2.0448 - val_acc: 0.2775\n",
    "Epoch 7/50\n",
    "50000/50000 [==============================] - 3s 52us/step - loss: 2.0299 - acc: 0.2863 - val_loss: 2.0152 - val_acc: 0.2890\n",
    "Epoch 8/50\n",
    "50000/50000 [==============================] - 3s 52us/step - loss: 2.0027 - acc: 0.2917 - val_loss: 1.9907 - val_acc: 0.2985\n",
    "Epoch 9/50\n",
    "50000/50000 [==============================] - 3s 52us/step - loss: 1.9802 - acc: 0.2957 - val_loss: 1.9696 - val_acc: 0.3024\n",
    "Epoch 10/50\n",
    "50000/50000 [==============================] - 3s 54us/step - loss: 1.9611 - acc: 0.3037 - val_loss: 1.9540 - val_acc: 0.3083\n",
    "Epoch 11/50\n",
    "50000/50000 [==============================] - 3s 53us/step - loss: 1.9450 - acc: 0.3105 - val_loss: 1.9400 - val_acc: 0.3062\n",
    "Epoch 12/50\n",
    "50000/50000 [==============================] - 3s 52us/step - loss: 1.9308 - acc: 0.3177 - val_loss: 1.9254 - val_acc: 0.3230\n",
    "Epoch 13/50\n",
    "50000/50000 [==============================] - 3s 52us/step - loss: 1.9185 - acc: 0.3215 - val_loss: 1.9126 - val_acc: 0.3204\n",
    "Epoch 14/50\n",
    "50000/50000 [==============================] - 3s 53us/step - loss: 1.9076 - acc: 0.3257 - val_loss: 1.9013 - val_acc: 0.3270\n",
    "Epoch 15/50\n",
    "50000/50000 [==============================] - 3s 53us/step - loss: 1.8976 - acc: 0.3295 - val_loss: 1.8925 - val_acc: 0.3354\n",
    "Epoch 16/50\n",
    "50000/50000 [==============================] - 3s 53us/step - loss: 1.8885 - acc: 0.3334 - val_loss: 1.8833 - val_acc: 0.3364\n",
    "Epoch 17/50\n",
    "50000/50000 [==============================] - 3s 54us/step - loss: 1.8803 - acc: 0.3390 - val_loss: 1.8754 - val_acc: 0.3375\n",
    "Epoch 18/50\n",
    "50000/50000 [==============================] - 3s 53us/step - loss: 1.8720 - acc: 0.3421 - val_loss: 1.8680 - val_acc: 0.3391\n",
    "Epoch 19/50\n",
    "50000/50000 [==============================] - 3s 53us/step - loss: 1.8646 - acc: 0.3439 - val_loss: 1.8612 - val_acc: 0.3450\n",
    "Epoch 20/50\n",
    "50000/50000 [==============================] - 3s 52us/step - loss: 1.8571 - acc: 0.3490 - val_loss: 1.8545 - val_acc: 0.3456\n",
    "Epoch 21/50\n",
    "50000/50000 [==============================] - 3s 53us/step - loss: 1.8502 - acc: 0.3484 - val_loss: 1.8461 - val_acc: 0.3538\n",
    "Epoch 22/50\n",
    "50000/50000 [==============================] - 3s 53us/step - loss: 1.8431 - acc: 0.3516 - val_loss: 1.8396 - val_acc: 0.3519\n",
    "Epoch 23/50\n",
    "50000/50000 [==============================] - 3s 54us/step - loss: 1.8361 - acc: 0.3549 - val_loss: 1.8367 - val_acc: 0.3587\n",
    "Epoch 24/50\n",
    "50000/50000 [==============================] - 3s 54us/step - loss: 1.8292 - acc: 0.3573 - val_loss: 1.8279 - val_acc: 0.3562\n",
    "Epoch 25/50\n",
    "50000/50000 [==============================] - 3s 52us/step - loss: 1.8229 - acc: 0.3601 - val_loss: 1.8206 - val_acc: 0.3582\n",
    "Epoch 26/50\n",
    "50000/50000 [==============================] - 3s 53us/step - loss: 1.8164 - acc: 0.3614 - val_loss: 1.8146 - val_acc: 0.3652\n",
    "Epoch 27/50\n",
    "50000/50000 [==============================] - 3s 53us/step - loss: 1.8108 - acc: 0.3631 - val_loss: 1.8069 - val_acc: 0.3641\n",
    "Epoch 28/50\n",
    "50000/50000 [==============================] - 3s 53us/step - loss: 1.8046 - acc: 0.3645 - val_loss: 1.8003 - val_acc: 0.3669\n",
    "Epoch 29/50\n",
    "50000/50000 [==============================] - 3s 53us/step - loss: 1.7994 - acc: 0.3664 - val_loss: 1.7959 - val_acc: 0.3695\n",
    "Epoch 30/50\n",
    "50000/50000 [==============================] - 3s 53us/step - loss: 1.7938 - acc: 0.3686 - val_loss: 1.7898 - val_acc: 0.3727\n",
    "Epoch 31/50\n",
    "50000/50000 [==============================] - 3s 53us/step - loss: 1.7887 - acc: 0.3706 - val_loss: 1.7882 - val_acc: 0.3721\n",
    "Epoch 32/50\n",
    "50000/50000 [==============================] - 3s 53us/step - loss: 1.7837 - acc: 0.3705 - val_loss: 1.7814 - val_acc: 0.3751\n",
    "Epoch 33/50\n",
    "50000/50000 [==============================] - 3s 53us/step - loss: 1.7788 - acc: 0.3740 - val_loss: 1.7744 - val_acc: 0.3798\n",
    "Epoch 34/50\n",
    "50000/50000 [==============================] - 3s 53us/step - loss: 1.7741 - acc: 0.3741 - val_loss: 1.7697 - val_acc: 0.3755\n",
    "Epoch 35/50\n",
    "50000/50000 [==============================] - 3s 53us/step - loss: 1.7696 - acc: 0.3767 - val_loss: 1.7672 - val_acc: 0.3772\n",
    "Epoch 36/50\n",
    "50000/50000 [==============================] - 3s 53us/step - loss: 1.7651 - acc: 0.3792 - val_loss: 1.7614 - val_acc: 0.3824\n",
    "Epoch 37/50\n",
    "50000/50000 [==============================] - 3s 53us/step - loss: 1.7601 - acc: 0.3801 - val_loss: 1.7597 - val_acc: 0.3796\n",
    "Epoch 38/50\n",
    "50000/50000 [==============================] - 3s 53us/step - loss: 1.7556 - acc: 0.3823 - val_loss: 1.7523 - val_acc: 0.3861\n",
    "Epoch 39/50\n",
    "50000/50000 [==============================] - 3s 53us/step - loss: 1.7518 - acc: 0.3831 - val_loss: 1.7501 - val_acc: 0.3844\n",
    "Epoch 40/50\n",
    "50000/50000 [==============================] - 3s 54us/step - loss: 1.7475 - acc: 0.3852 - val_loss: 1.7438 - val_acc: 0.3892\n",
    "Epoch 41/50\n",
    "50000/50000 [==============================] - 3s 54us/step - loss: 1.7434 - acc: 0.3866 - val_loss: 1.7398 - val_acc: 0.3898\n",
    "Epoch 42/50\n",
    "50000/50000 [==============================] - 3s 53us/step - loss: 1.7394 - acc: 0.3867 - val_loss: 1.7362 - val_acc: 0.3916\n",
    "Epoch 43/50\n",
    "50000/50000 [==============================] - 3s 54us/step - loss: 1.7348 - acc: 0.3885 - val_loss: 1.7310 - val_acc: 0.3917\n",
    "Epoch 44/50\n",
    "50000/50000 [==============================] - 3s 61us/step - loss: 1.7314 - acc: 0.3906 - val_loss: 1.7279 - val_acc: 0.3931\n",
    "Epoch 45/50\n",
    "50000/50000 [==============================] - 3s 55us/step - loss: 1.7274 - acc: 0.3928 - val_loss: 1.7239 - val_acc: 0.3955\n",
    "Epoch 46/50\n",
    "50000/50000 [==============================] - 3s 53us/step - loss: 1.7231 - acc: 0.3939 - val_loss: 1.7237 - val_acc: 0.3931\n",
    "Epoch 47/50\n",
    "50000/50000 [==============================] - 3s 53us/step - loss: 1.7193 - acc: 0.3950 - val_loss: 1.7162 - val_acc: 0.3981\n",
    "Epoch 48/50\n",
    "50000/50000 [==============================] - 3s 53us/step - loss: 1.7152 - acc: 0.3957 - val_loss: 1.7140 - val_acc: 0.3941\n",
    "Epoch 49/50\n",
    "50000/50000 [==============================] - 3s 53us/step - loss: 1.7115 - acc: 0.3978 - val_loss: 1.7093 - val_acc: 0.3955\n",
    "Epoch 50/50\n",
    "50000/50000 [==============================] - 3s 52us/step - loss: 1.7081 - acc: 0.3995 - val_loss: 1.7047 - val_acc: 0.3993"
   ]
  },
  {
   "cell_type": "code",
   "execution_count": 9,
   "metadata": {},
   "outputs": [
    {
     "name": "stdout",
     "output_type": "stream",
     "text": [
      "Train on 50000 samples, validate on 10000 samples\n",
      "Epoch 1/50\n",
      "50000/50000 [==============================] - 5s 100us/step - loss: 2.2873 - acc: 0.1507 - val_loss: 2.2692 - val_acc: 0.1487\n",
      "Epoch 2/50\n",
      "50000/50000 [==============================] - 4s 71us/step - loss: 2.2477 - acc: 0.2113 - val_loss: 2.2251 - val_acc: 0.2467\n",
      "Epoch 3/50\n",
      "50000/50000 [==============================] - 3s 69us/step - loss: 2.2011 - acc: 0.2352 - val_loss: 2.1749 - val_acc: 0.2575\n",
      "Epoch 4/50\n",
      "50000/50000 [==============================] - 3s 69us/step - loss: 2.1481 - acc: 0.2557 - val_loss: 2.1208 - val_acc: 0.2871\n",
      "Epoch 5/50\n",
      "50000/50000 [==============================] - 3s 69us/step - loss: 2.0991 - acc: 0.2730 - val_loss: 2.0772 - val_acc: 0.2720\n",
      "Epoch 6/50\n",
      "50000/50000 [==============================] - 3s 70us/step - loss: 2.0593 - acc: 0.2849 - val_loss: 2.0413 - val_acc: 0.2831\n",
      "Epoch 7/50\n",
      "50000/50000 [==============================] - 3s 69us/step - loss: 2.0267 - acc: 0.2926 - val_loss: 2.0108 - val_acc: 0.2932\n",
      "Epoch 8/50\n",
      "50000/50000 [==============================] - 3s 68us/step - loss: 1.9992 - acc: 0.2982 - val_loss: 1.9888 - val_acc: 0.3028\n",
      "Epoch 9/50\n",
      "50000/50000 [==============================] - 3s 68us/step - loss: 1.9765 - acc: 0.3022 - val_loss: 1.9639 - val_acc: 0.3085\n",
      "Epoch 10/50\n",
      "50000/50000 [==============================] - 3s 69us/step - loss: 1.9568 - acc: 0.3095 - val_loss: 1.9478 - val_acc: 0.3121\n",
      "Epoch 11/50\n",
      "50000/50000 [==============================] - 3s 68us/step - loss: 1.9407 - acc: 0.3139 - val_loss: 1.9318 - val_acc: 0.3171\n",
      "Epoch 12/50\n",
      "50000/50000 [==============================] - 4s 71us/step - loss: 1.9266 - acc: 0.3202 - val_loss: 1.9186 - val_acc: 0.3236\n",
      "Epoch 13/50\n",
      "50000/50000 [==============================] - 4s 71us/step - loss: 1.9145 - acc: 0.3254 - val_loss: 1.9081 - val_acc: 0.3166\n",
      "Epoch 14/50\n",
      "50000/50000 [==============================] - 4s 73us/step - loss: 1.9040 - acc: 0.3271 - val_loss: 1.8979 - val_acc: 0.3227\n",
      "Epoch 15/50\n",
      "50000/50000 [==============================] - 4s 72us/step - loss: 1.8944 - acc: 0.3328 - val_loss: 1.8881 - val_acc: 0.3353\n",
      "Epoch 16/50\n",
      "50000/50000 [==============================] - 4s 70us/step - loss: 1.8856 - acc: 0.3346 - val_loss: 1.8801 - val_acc: 0.3350\n",
      "Epoch 17/50\n",
      "50000/50000 [==============================] - 4s 71us/step - loss: 1.8777 - acc: 0.3390 - val_loss: 1.8738 - val_acc: 0.3420\n",
      "Epoch 18/50\n",
      "50000/50000 [==============================] - 4s 73us/step - loss: 1.8702 - acc: 0.3422 - val_loss: 1.8671 - val_acc: 0.3445\n",
      "Epoch 19/50\n",
      "50000/50000 [==============================] - 3s 70us/step - loss: 1.8627 - acc: 0.3433 - val_loss: 1.8598 - val_acc: 0.3443\n",
      "Epoch 20/50\n",
      "50000/50000 [==============================] - 3s 62us/step - loss: 1.8558 - acc: 0.3475 - val_loss: 1.8532 - val_acc: 0.3470\n",
      "Epoch 21/50\n",
      "50000/50000 [==============================] - 3s 62us/step - loss: 1.8486 - acc: 0.3514 - val_loss: 1.8450 - val_acc: 0.3518\n",
      "Epoch 22/50\n",
      "50000/50000 [==============================] - 4s 70us/step - loss: 1.8424 - acc: 0.3516 - val_loss: 1.8392 - val_acc: 0.3508\n",
      "Epoch 23/50\n",
      "50000/50000 [==============================] - 4s 72us/step - loss: 1.8355 - acc: 0.3549 - val_loss: 1.8314 - val_acc: 0.3583\n",
      "Epoch 24/50\n",
      "50000/50000 [==============================] - 4s 74us/step - loss: 1.8292 - acc: 0.3570 - val_loss: 1.8276 - val_acc: 0.3533\n",
      "Epoch 25/50\n",
      "50000/50000 [==============================] - 4s 72us/step - loss: 1.8232 - acc: 0.3581 - val_loss: 1.8207 - val_acc: 0.3643\n",
      "Epoch 26/50\n",
      "50000/50000 [==============================] - 4s 72us/step - loss: 1.8175 - acc: 0.3622 - val_loss: 1.8133 - val_acc: 0.3643\n",
      "Epoch 27/50\n",
      "50000/50000 [==============================] - 4s 71us/step - loss: 1.8114 - acc: 0.3646 - val_loss: 1.8074 - val_acc: 0.3623\n",
      "Epoch 28/50\n",
      "50000/50000 [==============================] - 4s 71us/step - loss: 1.8061 - acc: 0.3661 - val_loss: 1.8046 - val_acc: 0.3609\n",
      "Epoch 29/50\n",
      "50000/50000 [==============================] - 4s 70us/step - loss: 1.8008 - acc: 0.3674 - val_loss: 1.7969 - val_acc: 0.3683\n",
      "Epoch 30/50\n",
      "50000/50000 [==============================] - 4s 72us/step - loss: 1.7958 - acc: 0.3689 - val_loss: 1.7917 - val_acc: 0.3717\n",
      "Epoch 31/50\n",
      "50000/50000 [==============================] - 4s 72us/step - loss: 1.7909 - acc: 0.3697 - val_loss: 1.7862 - val_acc: 0.3752\n",
      "Epoch 32/50\n",
      "50000/50000 [==============================] - 4s 73us/step - loss: 1.7862 - acc: 0.3733 - val_loss: 1.7814 - val_acc: 0.3748\n",
      "Epoch 33/50\n",
      "50000/50000 [==============================] - 4s 72us/step - loss: 1.7815 - acc: 0.3732 - val_loss: 1.7782 - val_acc: 0.3769\n",
      "Epoch 34/50\n",
      "50000/50000 [==============================] - 4s 72us/step - loss: 1.7767 - acc: 0.3745 - val_loss: 1.7750 - val_acc: 0.3792\n",
      "Epoch 35/50\n",
      "50000/50000 [==============================] - 4s 72us/step - loss: 1.7722 - acc: 0.3769 - val_loss: 1.7691 - val_acc: 0.3817\n",
      "Epoch 36/50\n",
      "50000/50000 [==============================] - 4s 72us/step - loss: 1.7681 - acc: 0.3786 - val_loss: 1.7629 - val_acc: 0.3819\n",
      "Epoch 37/50\n",
      "50000/50000 [==============================] - 4s 70us/step - loss: 1.7635 - acc: 0.3800 - val_loss: 1.7624 - val_acc: 0.3810\n",
      "Epoch 38/50\n",
      "50000/50000 [==============================] - 3s 70us/step - loss: 1.7597 - acc: 0.3818 - val_loss: 1.7551 - val_acc: 0.3856\n",
      "Epoch 39/50\n",
      "50000/50000 [==============================] - 4s 71us/step - loss: 1.7556 - acc: 0.3836 - val_loss: 1.7502 - val_acc: 0.3857\n",
      "Epoch 40/50\n",
      "50000/50000 [==============================] - 3s 68us/step - loss: 1.7514 - acc: 0.3848 - val_loss: 1.7481 - val_acc: 0.3847\n",
      "Epoch 41/50\n",
      "50000/50000 [==============================] - 4s 71us/step - loss: 1.7472 - acc: 0.3858 - val_loss: 1.7478 - val_acc: 0.3892\n",
      "Epoch 42/50\n",
      "50000/50000 [==============================] - 3s 68us/step - loss: 1.7433 - acc: 0.3868 - val_loss: 1.7404 - val_acc: 0.3884\n",
      "Epoch 43/50\n",
      "50000/50000 [==============================] - 4s 71us/step - loss: 1.7394 - acc: 0.3892 - val_loss: 1.7350 - val_acc: 0.3910\n",
      "Epoch 44/50\n",
      "50000/50000 [==============================] - 3s 67us/step - loss: 1.7357 - acc: 0.3897 - val_loss: 1.7328 - val_acc: 0.3927\n",
      "Epoch 45/50\n",
      "50000/50000 [==============================] - 3s 69us/step - loss: 1.7318 - acc: 0.3919 - val_loss: 1.7287 - val_acc: 0.3955\n",
      "Epoch 46/50\n",
      "50000/50000 [==============================] - 3s 70us/step - loss: 1.7275 - acc: 0.3932 - val_loss: 1.7239 - val_acc: 0.3970\n",
      "Epoch 47/50\n",
      "50000/50000 [==============================] - 4s 71us/step - loss: 1.7240 - acc: 0.3950 - val_loss: 1.7202 - val_acc: 0.3975\n",
      "Epoch 48/50\n",
      "50000/50000 [==============================] - 4s 71us/step - loss: 1.7201 - acc: 0.3956 - val_loss: 1.7182 - val_acc: 0.3967\n",
      "Epoch 49/50\n",
      "50000/50000 [==============================] - 4s 72us/step - loss: 1.7160 - acc: 0.3975 - val_loss: 1.7158 - val_acc: 0.3959\n",
      "Epoch 50/50\n",
      "50000/50000 [==============================] - 4s 70us/step - loss: 1.7124 - acc: 0.3987 - val_loss: 1.7090 - val_acc: 0.4026\n"
     ]
    },
    {
     "data": {
      "text/plain": [
       "<keras.callbacks.History at 0x20efa7f4080>"
      ]
     },
     "execution_count": 9,
     "metadata": {},
     "output_type": "execute_result"
    }
   ],
   "source": [
    "model.fit(x_train, y_train, batch_size=100, epochs=50, verbose=1, validation_data=(x_test, y_test))"
   ]
  },
  {
   "cell_type": "code",
   "execution_count": 10,
   "metadata": {},
   "outputs": [
    {
     "name": "stdout",
     "output_type": "stream",
     "text": [
      "10000/10000 [==============================] - 1s 76us/step\n"
     ]
    },
    {
     "data": {
      "text/plain": [
       "[1.7089596847534179, 0.4026]"
      ]
     },
     "execution_count": 10,
     "metadata": {},
     "output_type": "execute_result"
    }
   ],
   "source": [
    "score = model.evaluate(x_test, y_test)\n",
    "score"
   ]
  }
 ],
 "metadata": {
  "kernelspec": {
   "display_name": "Python 3",
   "language": "python",
   "name": "python3"
  },
  "language_info": {
   "codemirror_mode": {
    "name": "ipython",
    "version": 3
   },
   "file_extension": ".py",
   "mimetype": "text/x-python",
   "name": "python",
   "nbconvert_exporter": "python",
   "pygments_lexer": "ipython3",
   "version": "3.6.5"
  }
 },
 "nbformat": 4,
 "nbformat_minor": 2
}

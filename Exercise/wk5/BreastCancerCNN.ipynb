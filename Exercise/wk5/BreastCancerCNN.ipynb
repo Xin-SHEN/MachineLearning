{
 "cells": [
  {
   "cell_type": "markdown",
   "metadata": {},
   "source": [
    "### Breast Cancer CNN"
   ]
  },
  {
   "cell_type": "code",
   "execution_count": 12,
   "metadata": {},
   "outputs": [
    {
     "data": {
      "text/plain": [
       "dict_keys(['data', 'target', 'target_names', 'DESCR', 'feature_names'])"
      ]
     },
     "execution_count": 12,
     "metadata": {},
     "output_type": "execute_result"
    }
   ],
   "source": [
    "from sklearn.datasets import load_breast_cancer\n",
    "import numpy as np\n",
    "\n",
    "breast_cancer = load_breast_cancer()\n",
    "breast_cancer.keys()"
   ]
  },
  {
   "cell_type": "code",
   "execution_count": 13,
   "metadata": {},
   "outputs": [
    {
     "data": {
      "text/plain": [
       "(569, 30)"
      ]
     },
     "execution_count": 13,
     "metadata": {},
     "output_type": "execute_result"
    }
   ],
   "source": [
    "breast_cancer['data'].shape"
   ]
  },
  {
   "cell_type": "code",
   "execution_count": 14,
   "metadata": {},
   "outputs": [
    {
     "data": {
      "text/plain": [
       "array(['mean radius', 'mean texture', 'mean perimeter', 'mean area',\n",
       "       'mean smoothness', 'mean compactness', 'mean concavity',\n",
       "       'mean concave points', 'mean symmetry', 'mean fractal dimension',\n",
       "       'radius error', 'texture error', 'perimeter error', 'area error',\n",
       "       'smoothness error', 'compactness error', 'concavity error',\n",
       "       'concave points error', 'symmetry error',\n",
       "       'fractal dimension error', 'worst radius', 'worst texture',\n",
       "       'worst perimeter', 'worst area', 'worst smoothness',\n",
       "       'worst compactness', 'worst concavity', 'worst concave points',\n",
       "       'worst symmetry', 'worst fractal dimension'], dtype='<U23')"
      ]
     },
     "execution_count": 14,
     "metadata": {},
     "output_type": "execute_result"
    }
   ],
   "source": [
    "breast_cancer['feature_names']"
   ]
  },
  {
   "cell_type": "code",
   "execution_count": 15,
   "metadata": {},
   "outputs": [
    {
     "data": {
      "text/plain": [
       "array(['malignant', 'benign'], dtype='<U9')"
      ]
     },
     "execution_count": 15,
     "metadata": {},
     "output_type": "execute_result"
    }
   ],
   "source": [
    "breast_cancer['target_names']"
   ]
  },
  {
   "cell_type": "markdown",
   "metadata": {},
   "source": [
    "### Use 30% of the data as labeled data"
   ]
  },
  {
   "cell_type": "code",
   "execution_count": 16,
   "metadata": {},
   "outputs": [
    {
     "name": "stdout",
     "output_type": "stream",
     "text": [
      "(569, 30)\n"
     ]
    }
   ],
   "source": [
    "data, labels = breast_cancer.data[:,:], breast_cancer.target[:]\n",
    "\n",
    "num_samples = len(labels)\n",
    "shuffle_order = np.random.permutation(num_samples)\n",
    "\n",
    "data = data[shuffle_order, :]\n",
    "labels = labels[shuffle_order]\n",
    "\n",
    "data = data / np.amax(data, axis = 0)\n",
    "labels = labels / np.amax(labels, axis = 0)\n",
    "data = data.astype('float32')\n",
    "labels = labels.astype('float32')\n",
    "\n",
    "print(data.shape)"
   ]
  },
  {
   "cell_type": "code",
   "execution_count": 17,
   "metadata": {},
   "outputs": [
    {
     "name": "stdout",
     "output_type": "stream",
     "text": [
      "(341, 30)\n",
      "(341,)\n",
      "(228, 30)\n",
      "(228,)\n"
     ]
    }
   ],
   "source": [
    "X, y = data, labels\n",
    "\n",
    "train_split = 0.6\n",
    "n_train = int(train_split * num_samples)\n",
    "x_train, y_train = X[:n_train], y[:n_train]\n",
    "x_test, y_test = X[n_train:], y[n_train:]\n",
    "\n",
    "print(x_train.shape)\n",
    "print(y_train.shape)\n",
    "print(x_test.shape)\n",
    "print(y_test.shape)"
   ]
  },
  {
   "cell_type": "code",
   "execution_count": 18,
   "metadata": {},
   "outputs": [],
   "source": [
    "import os\n",
    "# os.environ['CUDA_VISIBLE_DEVICES'] = '-1'\n",
    "os.environ['KERAS_BACKEND'] = 'tensorflow'\n",
    "\n",
    "import matplotlib.pyplot as plt\n",
    "import numpy as np\n",
    "import random\n",
    "\n",
    "import keras\n",
    "from keras.models import Sequential\n",
    "from keras.layers import Dense, Dropout\n",
    "from keras.layers import Conv1D, MaxPooling1D, Flatten\n",
    "from keras.layers import Activation"
   ]
  },
  {
   "cell_type": "code",
   "execution_count": 19,
   "metadata": {},
   "outputs": [
    {
     "name": "stdout",
     "output_type": "stream",
     "text": [
      "341 train samples, 228 test samples\n",
      "training data shape:  (341, 30, 1) (341, 2)\n",
      "test data shape:  (228, 30, 1) (228, 2)\n"
     ]
    }
   ],
   "source": [
    "num_classes = 2\n",
    "\n",
    "#reshape data\n",
    "x_train = x_train.reshape((341,30,1)) / 255.\n",
    "x_test = x_test.reshape((228,30,1)) / 255.\n",
    "\n",
    "# convert class vectors to binary class matrices\n",
    "y_train = keras.utils.to_categorical(y_train, num_classes)\n",
    "y_test = keras.utils.to_categorical(y_test, num_classes)\n",
    "\n",
    "print('%d train samples, %d test samples'%(x_train.shape[0], x_test.shape[0]))\n",
    "print('training data shape: ', x_train.shape, y_train.shape)\n",
    "print('test data shape: ', x_test.shape, y_test.shape)"
   ]
  },
  {
   "cell_type": "code",
   "execution_count": 20,
   "metadata": {},
   "outputs": [
    {
     "data": {
      "text/plain": [
       "(30, 1)"
      ]
     },
     "execution_count": 20,
     "metadata": {},
     "output_type": "execute_result"
    }
   ],
   "source": [
    "x_train.shape[1:]"
   ]
  },
  {
   "cell_type": "code",
   "execution_count": 27,
   "metadata": {},
   "outputs": [
    {
     "name": "stdout",
     "output_type": "stream",
     "text": [
      "_________________________________________________________________\n",
      "Layer (type)                 Output Shape              Param #   \n",
      "=================================================================\n",
      "conv1d_5 (Conv1D)            (None, 28, 64)            256       \n",
      "_________________________________________________________________\n",
      "activation_9 (Activation)    (None, 28, 64)            0         \n",
      "_________________________________________________________________\n",
      "max_pooling1d_5 (MaxPooling1 (None, 14, 64)            0         \n",
      "_________________________________________________________________\n",
      "conv1d_6 (Conv1D)            (None, 12, 32)            6176      \n",
      "_________________________________________________________________\n",
      "activation_10 (Activation)   (None, 12, 32)            0         \n",
      "_________________________________________________________________\n",
      "max_pooling1d_6 (MaxPooling1 (None, 6, 32)             0         \n",
      "_________________________________________________________________\n",
      "flatten_3 (Flatten)          (None, 192)               0         \n",
      "_________________________________________________________________\n",
      "dense_5 (Dense)              (None, 128)               24704     \n",
      "_________________________________________________________________\n",
      "activation_11 (Activation)   (None, 128)               0         \n",
      "_________________________________________________________________\n",
      "dense_6 (Dense)              (None, 2)                 258       \n",
      "_________________________________________________________________\n",
      "activation_12 (Activation)   (None, 2)                 0         \n",
      "=================================================================\n",
      "Total params: 31,394\n",
      "Trainable params: 31,394\n",
      "Non-trainable params: 0\n",
      "_________________________________________________________________\n"
     ]
    }
   ],
   "source": [
    "model = Sequential()\n",
    "\n",
    "model.add(Conv1D(64, 3, input_shape=x_train.shape[1:]))\n",
    "model.add(Activation('relu'))\n",
    "model.add(MaxPooling1D(2))\n",
    "\n",
    "model.add(Conv1D(32, 3))\n",
    "model.add(Activation('relu'))\n",
    "model.add(MaxPooling1D(2))\n",
    "\n",
    "model.add(Flatten())\n",
    "\n",
    "model.add(Dense(128))\n",
    "model.add(Activation('relu'))\n",
    "\n",
    "model.add(Dense(num_classes))\n",
    "model.add(Activation('softmax'))\n",
    "\n",
    "model.summary()"
   ]
  },
  {
   "cell_type": "code",
   "execution_count": 28,
   "metadata": {},
   "outputs": [],
   "source": [
    "model.compile(\n",
    "    loss='categorical_crossentropy',\n",
    "    optimizer='sgd',\n",
    "    metrics=['accuracy'])"
   ]
  },
  {
   "cell_type": "code",
   "execution_count": 29,
   "metadata": {},
   "outputs": [
    {
     "name": "stdout",
     "output_type": "stream",
     "text": [
      "Train on 341 samples, validate on 228 samples\n",
      "Epoch 1/50\n",
      "341/341 [==============================] - 0s 1ms/step - loss: 0.6876 - acc: 0.6100 - val_loss: 0.6815 - val_acc: 0.6272\n",
      "Epoch 2/50\n",
      "341/341 [==============================] - 0s 448us/step - loss: 0.6782 - acc: 0.6276 - val_loss: 0.6753 - val_acc: 0.6272\n",
      "Epoch 3/50\n",
      "341/341 [==============================] - 0s 428us/step - loss: 0.6730 - acc: 0.6276 - val_loss: 0.6696 - val_acc: 0.6272\n",
      "Epoch 4/50\n",
      "341/341 [==============================] - 0s 460us/step - loss: 0.6684 - acc: 0.6276 - val_loss: 0.6663 - val_acc: 0.6272\n",
      "Epoch 5/50\n",
      "341/341 [==============================] - 0s 457us/step - loss: 0.6653 - acc: 0.6276 - val_loss: 0.6646 - val_acc: 0.6272\n",
      "Epoch 6/50\n",
      "341/341 [==============================] - 0s 469us/step - loss: 0.6641 - acc: 0.6276 - val_loss: 0.6630 - val_acc: 0.6272\n",
      "Epoch 7/50\n",
      "341/341 [==============================] - 0s 457us/step - loss: 0.6625 - acc: 0.6276 - val_loss: 0.6619 - val_acc: 0.6272\n",
      "Epoch 8/50\n",
      "341/341 [==============================] - 0s 428us/step - loss: 0.6616 - acc: 0.6276 - val_loss: 0.6615 - val_acc: 0.6272\n",
      "Epoch 9/50\n",
      "341/341 [==============================] - 0s 443us/step - loss: 0.6614 - acc: 0.6276 - val_loss: 0.6610 - val_acc: 0.6272\n",
      "Epoch 10/50\n",
      "341/341 [==============================] - 0s 478us/step - loss: 0.6610 - acc: 0.6276 - val_loss: 0.6607 - val_acc: 0.6272\n",
      "Epoch 11/50\n",
      "341/341 [==============================] - 0s 446us/step - loss: 0.6607 - acc: 0.6276 - val_loss: 0.6605 - val_acc: 0.6272\n",
      "Epoch 12/50\n",
      "341/341 [==============================] - 0s 481us/step - loss: 0.6606 - acc: 0.6276 - val_loss: 0.6604 - val_acc: 0.6272\n",
      "Epoch 13/50\n",
      "341/341 [==============================] - 0s 419us/step - loss: 0.6608 - acc: 0.6276 - val_loss: 0.6604 - val_acc: 0.6272\n",
      "Epoch 14/50\n",
      "341/341 [==============================] - 0s 484us/step - loss: 0.6605 - acc: 0.6276 - val_loss: 0.6604 - val_acc: 0.6272\n",
      "Epoch 15/50\n",
      "341/341 [==============================] - 0s 457us/step - loss: 0.6605 - acc: 0.6276 - val_loss: 0.6604 - val_acc: 0.6272\n",
      "Epoch 16/50\n",
      "341/341 [==============================] - 0s 457us/step - loss: 0.6606 - acc: 0.6276 - val_loss: 0.6604 - val_acc: 0.6272\n",
      "Epoch 17/50\n",
      "341/341 [==============================] - 0s 466us/step - loss: 0.6608 - acc: 0.6276 - val_loss: 0.6604 - val_acc: 0.6272\n",
      "Epoch 18/50\n",
      "341/341 [==============================] - 0s 457us/step - loss: 0.6605 - acc: 0.6276 - val_loss: 0.6604 - val_acc: 0.6272\n",
      "Epoch 19/50\n",
      "341/341 [==============================] - 0s 481us/step - loss: 0.6605 - acc: 0.6276 - val_loss: 0.6604 - val_acc: 0.6272\n",
      "Epoch 20/50\n",
      "341/341 [==============================] - 0s 443us/step - loss: 0.6606 - acc: 0.6276 - val_loss: 0.6605 - val_acc: 0.6272\n",
      "Epoch 21/50\n",
      "341/341 [==============================] - 0s 489us/step - loss: 0.6607 - acc: 0.6276 - val_loss: 0.6605 - val_acc: 0.6272\n",
      "Epoch 22/50\n",
      "341/341 [==============================] - 0s 489us/step - loss: 0.6606 - acc: 0.6276 - val_loss: 0.6604 - val_acc: 0.6272\n",
      "Epoch 23/50\n",
      "341/341 [==============================] - 0s 504us/step - loss: 0.6607 - acc: 0.6276 - val_loss: 0.6604 - val_acc: 0.6272\n",
      "Epoch 24/50\n",
      "341/341 [==============================] - 0s 428us/step - loss: 0.6605 - acc: 0.6276 - val_loss: 0.6604 - val_acc: 0.6272\n",
      "Epoch 25/50\n",
      "341/341 [==============================] - 0s 489us/step - loss: 0.6605 - acc: 0.6276 - val_loss: 0.6604 - val_acc: 0.6272\n",
      "Epoch 26/50\n",
      "341/341 [==============================] - 0s 495us/step - loss: 0.6605 - acc: 0.6276 - val_loss: 0.6604 - val_acc: 0.6272\n",
      "Epoch 27/50\n",
      "341/341 [==============================] - 0s 466us/step - loss: 0.6606 - acc: 0.6276 - val_loss: 0.6604 - val_acc: 0.6272\n",
      "Epoch 28/50\n",
      "341/341 [==============================] - 0s 460us/step - loss: 0.6606 - acc: 0.6276 - val_loss: 0.6604 - val_acc: 0.6272\n",
      "Epoch 29/50\n",
      "341/341 [==============================] - 0s 413us/step - loss: 0.6605 - acc: 0.6276 - val_loss: 0.6604 - val_acc: 0.6272\n",
      "Epoch 30/50\n",
      "341/341 [==============================] - 0s 454us/step - loss: 0.6606 - acc: 0.6276 - val_loss: 0.6604 - val_acc: 0.6272\n",
      "Epoch 31/50\n",
      "341/341 [==============================] - 0s 454us/step - loss: 0.6605 - acc: 0.6276 - val_loss: 0.6604 - val_acc: 0.6272\n",
      "Epoch 32/50\n",
      "341/341 [==============================] - 0s 463us/step - loss: 0.6606 - acc: 0.6276 - val_loss: 0.6604 - val_acc: 0.6272\n",
      "Epoch 33/50\n",
      "341/341 [==============================] - 0s 463us/step - loss: 0.6606 - acc: 0.6276 - val_loss: 0.6604 - val_acc: 0.6272\n",
      "Epoch 34/50\n",
      "341/341 [==============================] - 0s 349us/step - loss: 0.6604 - acc: 0.6276 - val_loss: 0.6604 - val_acc: 0.6272\n",
      "Epoch 35/50\n",
      "341/341 [==============================] - 0s 402us/step - loss: 0.6607 - acc: 0.6276 - val_loss: 0.6604 - val_acc: 0.6272\n",
      "Epoch 36/50\n",
      "341/341 [==============================] - 0s 416us/step - loss: 0.6605 - acc: 0.6276 - val_loss: 0.6604 - val_acc: 0.6272\n",
      "Epoch 37/50\n",
      "341/341 [==============================] - 0s 375us/step - loss: 0.6606 - acc: 0.6276 - val_loss: 0.6604 - val_acc: 0.6272\n",
      "Epoch 38/50\n",
      "341/341 [==============================] - 0s 416us/step - loss: 0.6604 - acc: 0.6276 - val_loss: 0.6604 - val_acc: 0.6272\n",
      "Epoch 39/50\n",
      "341/341 [==============================] - 0s 431us/step - loss: 0.6606 - acc: 0.6276 - val_loss: 0.6604 - val_acc: 0.6272\n",
      "Epoch 40/50\n",
      "341/341 [==============================] - 0s 513us/step - loss: 0.6605 - acc: 0.6276 - val_loss: 0.6604 - val_acc: 0.6272\n",
      "Epoch 41/50\n",
      "341/341 [==============================] - 0s 472us/step - loss: 0.6606 - acc: 0.6276 - val_loss: 0.6604 - val_acc: 0.6272\n",
      "Epoch 42/50\n",
      "341/341 [==============================] - 0s 481us/step - loss: 0.6604 - acc: 0.6276 - val_loss: 0.6604 - val_acc: 0.6272\n",
      "Epoch 43/50\n",
      "341/341 [==============================] - 0s 484us/step - loss: 0.6605 - acc: 0.6276 - val_loss: 0.6604 - val_acc: 0.6272\n",
      "Epoch 44/50\n",
      "341/341 [==============================] - 0s 454us/step - loss: 0.6606 - acc: 0.6276 - val_loss: 0.6604 - val_acc: 0.6272\n",
      "Epoch 45/50\n",
      "341/341 [==============================] - 0s 539us/step - loss: 0.6604 - acc: 0.6276 - val_loss: 0.6604 - val_acc: 0.6272\n",
      "Epoch 46/50\n",
      "341/341 [==============================] - 0s 407us/step - loss: 0.6604 - acc: 0.6276 - val_loss: 0.6604 - val_acc: 0.6272\n",
      "Epoch 47/50\n",
      "341/341 [==============================] - 0s 419us/step - loss: 0.6604 - acc: 0.6276 - val_loss: 0.6604 - val_acc: 0.6272\n",
      "Epoch 48/50\n",
      "341/341 [==============================] - 0s 504us/step - loss: 0.6607 - acc: 0.6276 - val_loss: 0.6605 - val_acc: 0.6272\n",
      "Epoch 49/50\n",
      "341/341 [==============================] - 0s 481us/step - loss: 0.6606 - acc: 0.6276 - val_loss: 0.6604 - val_acc: 0.6272\n",
      "Epoch 50/50\n",
      "341/341 [==============================] - 0s 451us/step - loss: 0.6606 - acc: 0.6276 - val_loss: 0.6604 - val_acc: 0.6272\n"
     ]
    },
    {
     "data": {
      "text/plain": [
       "<keras.callbacks.History at 0x1d769eeffd0>"
      ]
     },
     "execution_count": 29,
     "metadata": {},
     "output_type": "execute_result"
    }
   ],
   "source": [
    "model.fit(x_train, y_train, \n",
    "          batch_size=16, \n",
    "          epochs=50, \n",
    "          validation_data=(x_test, y_test))\n",
    "# score = model.evaluate(x_test, y_test, batch_size=16)"
   ]
  },
  {
   "cell_type": "code",
   "execution_count": null,
   "metadata": {},
   "outputs": [],
   "source": []
  }
 ],
 "metadata": {
  "kernelspec": {
   "display_name": "Python 3",
   "language": "python",
   "name": "python3"
  },
  "language_info": {
   "codemirror_mode": {
    "name": "ipython",
    "version": 3
   },
   "file_extension": ".py",
   "mimetype": "text/x-python",
   "name": "python",
   "nbconvert_exporter": "python",
   "pygments_lexer": "ipython3",
   "version": "3.6.5"
  }
 },
 "nbformat": 4,
 "nbformat_minor": 2
}

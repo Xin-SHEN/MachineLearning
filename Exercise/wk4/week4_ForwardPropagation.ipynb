{
 "cells": [
  {
   "cell_type": "code",
   "execution_count": 199,
   "metadata": {},
   "outputs": [
    {
     "data": {
      "text/plain": [
       "['sepal length (cm)',\n",
       " 'sepal width (cm)',\n",
       " 'petal length (cm)',\n",
       " 'petal width (cm)']"
      ]
     },
     "execution_count": 199,
     "metadata": {},
     "output_type": "execute_result"
    }
   ],
   "source": [
    "import numpy as np\n",
    "import matplotlib.pyplot as plt\n",
    "import random\n",
    "from sklearn.datasets import load_iris\n",
    "\n",
    "iris = load_iris()\n",
    "iris.feature_names"
   ]
  },
  {
   "cell_type": "markdown",
   "metadata": {},
   "source": [
    "# Forward Propagation\n",
    "\n",
    "Assuming bias = 0"
   ]
  },
  {
   "cell_type": "code",
   "execution_count": 204,
   "metadata": {},
   "outputs": [],
   "source": [
    "num_samples = len(iris.data[:,2])\n",
    "\n",
    "# shuffle the dataset\n",
    "shuffle_order = np.random.permutation(num_samples)\n",
    "\n",
    "X = iris['data'][shuffle_order,0:2]\n",
    "y = iris['data'][shuffle_order,2]\n",
    "y = y.reshape((len(y),1)) #Important, must convert, or result will be wrong!\n",
    "X /= X.max()\n",
    "y /= y.max()\n",
    "\n",
    "# sum squared error\n",
    "def cost(y_pred, y_actual):\n",
    "    return 0.5 * np.sum((y_actual-y_pred)**2)\n",
    "\n",
    "class Neural_Network(object):\n",
    "    def __init__(self, n0, n1, n2):\n",
    "        self.n0 = n0\n",
    "        self.n1 = n1\n",
    "        self.n2 = n2\n",
    "        \n",
    "        self.W1 = np.random.randn(self.n0, self.n1)\n",
    "        self.W2 = np.random.randn(self.n1, self.n2)\n",
    "        \n",
    "    def predict(self, q):\n",
    "        z = np.dot(q, self.W1)\n",
    "        z = sigmoid(z)\n",
    "        y_pred = np.dot(z, self.W2)\n",
    "        return y_pred\n",
    "\n",
    "net = Neural_Network(2,3,1)"
   ]
  },
  {
   "cell_type": "code",
   "execution_count": 206,
   "metadata": {},
   "outputs": [
    {
     "name": "stdout",
     "output_type": "stream",
     "text": [
      "5.056927914573047\n"
     ]
    }
   ],
   "source": [
    "y_pred = net.predict(X)\n",
    "error = cost(y_pred, y)\n",
    "print(error)"
   ]
  },
  {
   "cell_type": "code",
   "execution_count": 208,
   "metadata": {},
   "outputs": [],
   "source": [
    "import itertools\n",
    "\n",
    "def get_gradiant(net, X, y):\n",
    "    w_delta = 1e-8\n",
    "\n",
    "    y_pred_current = net.predict(X)\n",
    "    error_current = cost(y_pred_current, y)\n",
    "\n",
    "    dw1 = np.zeros((net.n0,net.n1))\n",
    "    dw2 = np.zeros((net.n1,net.n2))\n",
    "\n",
    "    W1, W2 = np.copy(net.W1), np.copy(net.W2)\n",
    "\n",
    "    for i,j in itertools.product(range(net.n0),range(net.n1)):\n",
    "        net.W1 = np.copy(W1)\n",
    "        net.W1[i][j] += w_delta\n",
    "        y_pred = net.predict(X)\n",
    "        error = cost(y_pred, y)\n",
    "        dJdw = (error - error_current) / w_delta\n",
    "        dw1[i][j] = dJdw\n",
    "\n",
    "    for i,j in itertools.product(range(net.n1),range(net.n2)):\n",
    "        net.w2 = np.copy(W2)\n",
    "        net.W2[i][j] += w_delta\n",
    "        y_pred = net.predict(X)\n",
    "        error = cost(y_pred, y)\n",
    "        dJdw = (error - error_current) / w_delta\n",
    "        dw2[i][j] = dJdw\n",
    "\n",
    "    # restore original weights\n",
    "    net.W1, net.W2 = np.copy(W1), np.copy(W2)\n",
    "    \n",
    "    return dw1,dw2"
   ]
  },
  {
   "cell_type": "code",
   "execution_count": 215,
   "metadata": {},
   "outputs": [
    {
     "name": "stdout",
     "output_type": "stream",
     "text": [
      "Initial cost = 0.596\n"
     ]
    }
   ],
   "source": [
    "#current cost\n",
    "y_orig = net.predict(X)\n",
    "init_cost = cost(y_orig, y)\n",
    "\n",
    "n_epochs = 2000\n",
    "learning_rate = 0.01\n",
    "\n",
    "errors = []\n",
    "\n",
    "print(\"Initial cost = %0.3f\" % init_cost)"
   ]
  },
  {
   "cell_type": "code",
   "execution_count": 210,
   "metadata": {},
   "outputs": [
    {
     "data": {
      "text/plain": [
       "[<matplotlib.lines.Line2D at 0x14042687160>]"
      ]
     },
     "execution_count": 210,
     "metadata": {},
     "output_type": "execute_result"
    },
    {
     "data": {
      "image/png": "[encoded data removed]",
      "text/plain": [
       "<Figure size 432x288 with 1 Axes>"
      ]
     },
     "metadata": {},
     "output_type": "display_data"
    }
   ],
   "source": [
    "for i in range(n_epochs):\n",
    "    dw1, dw2 = get_gradiant(net, X, y)\n",
    "    net.W1 = net.W1 - learning_rate * dw1\n",
    "    net.W2 = net.W2 - learning_rate * dw2\n",
    "    y_pred = net.predict(X)\n",
    "    error = cost(y_pred,y)\n",
    "    errors.append(error)    \n",
    "\n",
    "plt.plot(range(len(errors)),errors)"
   ]
  },
  {
   "cell_type": "code",
   "execution_count": null,
   "metadata": {},
   "outputs": [],
   "source": []
  }
 ],
 "metadata": {
  "kernelspec": {
   "display_name": "Python 3",
   "language": "python",
   "name": "python3"
  },
  "language_info": {
   "codemirror_mode": {
    "name": "ipython",
    "version": 3
   },
   "file_extension": ".py",
   "mimetype": "text/x-python",
   "name": "python",
   "nbconvert_exporter": "python",
   "pygments_lexer": "ipython3",
   "version": "3.6.5"
  }
 },
 "nbformat": 4,
 "nbformat_minor": 2
}

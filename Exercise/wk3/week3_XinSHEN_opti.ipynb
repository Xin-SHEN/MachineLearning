{
 "cells": [
  {
   "cell_type": "code",
   "execution_count": 55,
   "metadata": {},
   "outputs": [
    {
     "name": "stdout",
     "output_type": "stream",
     "text": [
      "dict_keys(['data', 'target', 'target_names', 'DESCR', 'feature_names'])\n"
     ]
    }
   ],
   "source": [
    "import numpy as np\n",
    "import matplotlib.pyplot as plt\n",
    "import random\n",
    "from sklearn.datasets import load_iris\n",
    "\n",
    "iris = load_iris()\n",
    "print(iris.keys())"
   ]
  },
  {
   "cell_type": "code",
   "execution_count": 25,
   "metadata": {},
   "outputs": [
    {
     "data": {
      "text/plain": [
       "['sepal length (cm)',\n",
       " 'sepal width (cm)',\n",
       " 'petal length (cm)',\n",
       " 'petal width (cm)']"
      ]
     },
     "execution_count": 25,
     "metadata": {},
     "output_type": "execute_result"
    }
   ],
   "source": [
    "iris.feature_names"
   ]
  },
  {
   "cell_type": "code",
   "execution_count": 56,
   "metadata": {},
   "outputs": [],
   "source": [
    "num_samples = len(iris.data[:,2])\n",
    "\n",
    "# shuffle the dataset\n",
    "shuffle_order = np.random.permutation(num_samples)\n",
    "\n",
    "x = iris['data'][shuffle_order,0:2]\n",
    "y = iris['data'][shuffle_order,2]\n",
    "\n",
    "# normalize\n",
    "x /= x.max()\n",
    "y /= y.max()\n",
    "\n",
    "def F(x, w, b):\n",
    "    return np.sum(x*w, axis = 1) + b"
   ]
  },
  {
   "cell_type": "code",
   "execution_count": 57,
   "metadata": {},
   "outputs": [
    {
     "name": "stdout",
     "output_type": "stream",
     "text": [
      "initial parameters: w1=0.129, w2=0.575, b=0.209\n",
      "initial cost = 5.036\n"
     ]
    }
   ],
   "source": [
    "# sum squared error\n",
    "def cost(y_pred, y_actual):\n",
    "    return 0.5 * np.sum((y_actual-y_pred)**2)\n",
    "\n",
    "w, b = [random.random(),random.random()], random.random()\n",
    "\n",
    "y_pred = F(x, w, b)\n",
    "init_cost = cost(y_pred, y)\n",
    "\n",
    "print('initial parameters: w1=%0.3f, w2=%0.3f, b=%0.3f' %(w[0],w[1],b))\n",
    "print('initial cost = %0.3f' % init_cost)"
   ]
  },
  {
   "cell_type": "code",
   "execution_count": 60,
   "metadata": {},
   "outputs": [
    {
     "name": "stdout",
     "output_type": "stream",
     "text": [
      "final parameters: w1=2.039, w2=-1.533, b=-0.371\n",
      "final cost = 0.648\n"
     ]
    },
    {
     "data": {
      "image/png": "[encoded data removed]",
      "text/plain": [
       "<Figure size 1152x216 with 1 Axes>"
      ]
     },
     "metadata": {},
     "output_type": "display_data"
    }
   ],
   "source": [
    "# choose the alpha parameter and number of iterations\n",
    "alpha = 0.01\n",
    "n_iters = 2000\n",
    "\n",
    "# implement partial derivatives of our parameters\n",
    "def dJdw1(x, w, b, y):\n",
    "    return - np.dot(x[:,0], y - F(x, w, b))\n",
    "def dJdw2(x, w, b, y):\n",
    "    return - np.dot(x[:,1], y - F(x, w, b))\n",
    "def dJdb(x, w, b, y):\n",
    "    return - np.sum(y - F(x, w, b))\n",
    "\n",
    "errors = []\n",
    "for i in range(n_iters):\n",
    "    w[0] = w[0] - alpha * dJdw1(x, w, b, y)\n",
    "    w[1] = w[1] - alpha * dJdw2(x, w, b, y)\n",
    "    b = b - alpha * dJdb(x, w, b, y)\n",
    "    y_pred = F(x, w, b)\n",
    "    j = cost(y_pred, y)\n",
    "    errors.append(j)\n",
    "    \n",
    "# plot it \n",
    "plt.figure(figsize=(16,3))\n",
    "plt.plot(range(n_iters),errors,linewidth=2)\n",
    "plt.title('Cost by iteration')\n",
    "plt.ylabel('Cost')\n",
    "plt.xlabel('iterrations')\n",
    "\n",
    "# what is our final error rate\n",
    "y_pred = F(x, w, b)\n",
    "final_cost = cost(y_pred, y)\n",
    "\n",
    "print('final parameters: w1=%0.3f, w2=%0.3f, b=%0.3f' %(w[0],w[1],b))\n",
    "print('final cost = %0.3f' % final_cost)"
   ]
  },
  {
   "cell_type": "markdown",
   "metadata": {},
   "source": [
    "### Xin's Question\n",
    "1. What kind of range should we give to W1, W2, B ? \n",
    "2. How to choose the alpha parameter and number of iterations ? "
   ]
  }
 ],
 "metadata": {
  "kernelspec": {
   "display_name": "Python 3",
   "language": "python",
   "name": "python3"
  },
  "language_info": {
   "codemirror_mode": {
    "name": "ipython",
    "version": 3
   },
   "file_extension": ".py",
   "mimetype": "text/x-python",
   "name": "python",
   "nbconvert_exporter": "python",
   "pygments_lexer": "ipython3",
   "version": "3.6.5"
  }
 },
 "nbformat": 4,
 "nbformat_minor": 2
}

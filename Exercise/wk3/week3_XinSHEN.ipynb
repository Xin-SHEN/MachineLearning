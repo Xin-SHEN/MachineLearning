{
 "cells": [
  {
   "cell_type": "code",
   "execution_count": 1,
   "metadata": {},
   "outputs": [
    {
     "name": "stdout",
     "output_type": "stream",
     "text": [
      "dict_keys(['data', 'target', 'target_names', 'DESCR', 'feature_names'])\n"
     ]
    }
   ],
   "source": [
    "import numpy as np\n",
    "import matplotlib.pyplot as plt\n",
    "import random\n",
    "from sklearn.datasets import load_iris\n",
    "\n",
    "iris = load_iris()\n",
    "print(iris.keys())"
   ]
  },
  {
   "cell_type": "code",
   "execution_count": 35,
   "metadata": {},
   "outputs": [
    {
     "data": {
      "text/plain": [
       "['sepal length (cm)',\n",
       " 'sepal width (cm)',\n",
       " 'petal length (cm)',\n",
       " 'petal width (cm)']"
      ]
     },
     "execution_count": 35,
     "metadata": {},
     "output_type": "execute_result"
    }
   ],
   "source": [
    "iris['feature_names']"
   ]
  },
  {
   "cell_type": "code",
   "execution_count": 4,
   "metadata": {},
   "outputs": [
    {
     "name": "stdout",
     "output_type": "stream",
     "text": [
      "initial parameters: w1=0.027, w2=0.247, b=0.977\n",
      "initial cost = 70.007\n",
      "final parameters: w1=1.256, w2=-88.859, b=87.795\n",
      "final cost = 3.897\n"
     ]
    },
    {
     "data": {
      "image/png": "[encoded data removed]",
      "text/plain": [
       "<Figure size 1152x216 with 1 Axes>"
      ]
     },
     "metadata": {},
     "output_type": "display_data"
    }
   ],
   "source": [
    "x1 = iris['data'][:,0]\n",
    "x2 = iris['data'][:,1]\n",
    "y = iris['data'][:,2]\n",
    "\n",
    "# sum squared error\n",
    "def cost(y_pred, y_actual):\n",
    "    return 0.5 * np.sum((y_actual-y_pred)**2)\n",
    "\n",
    "W1 = np.arange(-2, 4, 0.1)\n",
    "W2 = np.arange(-2, 4, 0.1)\n",
    "B  = np.arange(-6, 8, 0.1)\n",
    "\n",
    "# normalize\n",
    "x1 /= x1.max()\n",
    "x2 /= x2.max()\n",
    "y /= y.max()\n",
    "\n",
    "# choose a random initial w1, w2, b\n",
    "w1, w2, b = random.random(), random.random(), random.random()\n",
    "\n",
    "def F(w1, x1, w2, x2, b):\n",
    "    return w1*x1 + w2+x2 + b;\n",
    "\n",
    "# what is our error?\n",
    "y_pred = F(w1, x1, w2, x2, y)\n",
    "init_cost = cost(y_pred, y)\n",
    "\n",
    "print(\"initial parameters: w1=%0.3f, w2=%0.3f, b=%0.3f\"%(w1, w2, b))\n",
    "print(\"initial cost = %0.3f\" % init_cost)\n",
    "\n",
    "# implement partial derivatives of our parameters\n",
    "def dJdw1(w1, x1, w2, x2, b, y):\n",
    "    return - np.dot(x1, y - F(w1, x1, w2, x2, b))\n",
    "def dJdw2(w1, x1, w2, x2, b, y):\n",
    "    return - np.dot(x2, y - F(w1, x1, w2, x2, b))\n",
    "def dJdb(w1, x1, w2, x2, b, y):\n",
    "    return - np.sum(y - F(w1, x1, w2, x2, b))\n",
    "\n",
    "# choose the alpha parameter and number of iterations\n",
    "alpha = 0.01\n",
    "n_iters = 2000\n",
    "\n",
    "errors = []\n",
    "for i in range(n_iters):\n",
    "    w1 = w1 - alpha * dJdw1(w1, x1, w2, x2, b, y)\n",
    "    w2 = w2 - alpha * dJdw2(w1, x1, w2, x2, b, y)\n",
    "    b = b - alpha * dJdb(w1, x1, w2, x2, b, y)\n",
    "    y_pred = F(w1, x1, w2, x2, b)\n",
    "    j = cost(y_pred, y)\n",
    "    errors.append(j)\n",
    "    \n",
    "# plot it \n",
    "plt.figure(figsize=(16,3))\n",
    "plt.plot(range(n_iters),errors,linewidth=2)\n",
    "plt.title('Cost by iteration')\n",
    "plt.ylabel('Cost')\n",
    "plt.xlabel('iterrations')\n",
    "\n",
    "# what is our final error rate\n",
    "y_pred = F(w1, x1, w2, x2, b)\n",
    "final_cost = cost(y_pred, y)\n",
    "\n",
    "print('final parameters: w1=%0.3f, w2=%0.3f, b=%0.3f' %(w1,w2,b))\n",
    "print('final cost = %0.3f' % final_cost)"
   ]
  },
  {
   "cell_type": "markdown",
   "metadata": {},
   "source": [
    "### Xin's Question\n",
    "1. What kind of range should we give to W1, W2, B ? \n",
    "2. How to choose the alpha parameter and number of iterations ? "
   ]
  }
 ],
 "metadata": {
  "kernelspec": {
   "display_name": "Python 3",
   "language": "python",
   "name": "python3"
  },
  "language_info": {
   "codemirror_mode": {
    "name": "ipython",
    "version": 3
   },
   "file_extension": ".py",
   "mimetype": "text/x-python",
   "name": "python",
   "nbconvert_exporter": "python",
   "pygments_lexer": "ipython3",
   "version": "3.6.5"
  }
 },
 "nbformat": 4,
 "nbformat_minor": 2
}

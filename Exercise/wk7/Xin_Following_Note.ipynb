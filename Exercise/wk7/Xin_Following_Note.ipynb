{
 "cells": [
  {
   "cell_type": "code",
   "execution_count": 17,
   "metadata": {},
   "outputs": [],
   "source": [
    "import os\n",
    "import random\n",
    "import numpy as np\n",
    "import keras\n",
    "\n",
    "import matplotlib.pyplot as plt\n",
    "from matplotlib.pyplot import imshow\n",
    "\n",
    "from keras.preprocessing import image\n",
    "from keras.applications.imagenet_utils import preprocess_input\n",
    "from keras.models import Sequential\n",
    "from keras.layers import Dense, Dropout, Flatten, Activation\n",
    "from keras.layers import Conv2D, MaxPooling2D\n",
    "from keras.models import Model"
   ]
  },
  {
   "cell_type": "code",
   "execution_count": 18,
   "metadata": {},
   "outputs": [
    {
     "name": "stdout",
     "output_type": "stream",
     "text": [
      "['../../Assets/101_ObjectCategories\\\\accordion', '../../Assets/101_ObjectCategories\\\\anchor', '../../Assets/101_ObjectCategories\\\\ant', '../../Assets/101_ObjectCategories\\\\barrel', '../../Assets/101_ObjectCategories\\\\bass', '../../Assets/101_ObjectCategories\\\\beaver', '../../Assets/101_ObjectCategories\\\\binocular', '../../Assets/101_ObjectCategories\\\\bonsai', '../../Assets/101_ObjectCategories\\\\brain', '../../Assets/101_ObjectCategories\\\\brontosaurus', '../../Assets/101_ObjectCategories\\\\buddha', '../../Assets/101_ObjectCategories\\\\butterfly', '../../Assets/101_ObjectCategories\\\\camera', '../../Assets/101_ObjectCategories\\\\cannon', '../../Assets/101_ObjectCategories\\\\car_side', '../../Assets/101_ObjectCategories\\\\ceiling_fan', '../../Assets/101_ObjectCategories\\\\cellphone', '../../Assets/101_ObjectCategories\\\\chair', '../../Assets/101_ObjectCategories\\\\chandelier', '../../Assets/101_ObjectCategories\\\\cougar_body', '../../Assets/101_ObjectCategories\\\\cougar_face', '../../Assets/101_ObjectCategories\\\\crab', '../../Assets/101_ObjectCategories\\\\crayfish', '../../Assets/101_ObjectCategories\\\\crocodile', '../../Assets/101_ObjectCategories\\\\crocodile_head', '../../Assets/101_ObjectCategories\\\\cup', '../../Assets/101_ObjectCategories\\\\dalmatian', '../../Assets/101_ObjectCategories\\\\dollar_bill', '../../Assets/101_ObjectCategories\\\\dolphin', '../../Assets/101_ObjectCategories\\\\dragonfly', '../../Assets/101_ObjectCategories\\\\electric_guitar', '../../Assets/101_ObjectCategories\\\\elephant', '../../Assets/101_ObjectCategories\\\\emu', '../../Assets/101_ObjectCategories\\\\euphonium', '../../Assets/101_ObjectCategories\\\\ewer', '../../Assets/101_ObjectCategories\\\\ferry', '../../Assets/101_ObjectCategories\\\\flamingo', '../../Assets/101_ObjectCategories\\\\flamingo_head', '../../Assets/101_ObjectCategories\\\\garfield', '../../Assets/101_ObjectCategories\\\\gerenuk', '../../Assets/101_ObjectCategories\\\\gramophone', '../../Assets/101_ObjectCategories\\\\grand_piano', '../../Assets/101_ObjectCategories\\\\hawksbill', '../../Assets/101_ObjectCategories\\\\headphone', '../../Assets/101_ObjectCategories\\\\hedgehog', '../../Assets/101_ObjectCategories\\\\helicopter', '../../Assets/101_ObjectCategories\\\\ibis', '../../Assets/101_ObjectCategories\\\\inline_skate', '../../Assets/101_ObjectCategories\\\\joshua_tree', '../../Assets/101_ObjectCategories\\\\kangaroo', '../../Assets/101_ObjectCategories\\\\ketch', '../../Assets/101_ObjectCategories\\\\lamp', '../../Assets/101_ObjectCategories\\\\laptop', '../../Assets/101_ObjectCategories\\\\Leopards', '../../Assets/101_ObjectCategories\\\\llama', '../../Assets/101_ObjectCategories\\\\lobster', '../../Assets/101_ObjectCategories\\\\lotus', '../../Assets/101_ObjectCategories\\\\mandolin', '../../Assets/101_ObjectCategories\\\\mayfly', '../../Assets/101_ObjectCategories\\\\menorah', '../../Assets/101_ObjectCategories\\\\metronome', '../../Assets/101_ObjectCategories\\\\minaret', '../../Assets/101_ObjectCategories\\\\nautilus', '../../Assets/101_ObjectCategories\\\\octopus', '../../Assets/101_ObjectCategories\\\\okapi', '../../Assets/101_ObjectCategories\\\\pagoda', '../../Assets/101_ObjectCategories\\\\panda', '../../Assets/101_ObjectCategories\\\\pigeon', '../../Assets/101_ObjectCategories\\\\pizza', '../../Assets/101_ObjectCategories\\\\platypus', '../../Assets/101_ObjectCategories\\\\pyramid', '../../Assets/101_ObjectCategories\\\\revolver', '../../Assets/101_ObjectCategories\\\\rhino', '../../Assets/101_ObjectCategories\\\\rooster', '../../Assets/101_ObjectCategories\\\\saxophone', '../../Assets/101_ObjectCategories\\\\schooner', '../../Assets/101_ObjectCategories\\\\scissors', '../../Assets/101_ObjectCategories\\\\scorpion', '../../Assets/101_ObjectCategories\\\\sea_horse', '../../Assets/101_ObjectCategories\\\\snoopy', '../../Assets/101_ObjectCategories\\\\soccer_ball', '../../Assets/101_ObjectCategories\\\\stapler', '../../Assets/101_ObjectCategories\\\\starfish', '../../Assets/101_ObjectCategories\\\\stegosaurus', '../../Assets/101_ObjectCategories\\\\stop_sign', '../../Assets/101_ObjectCategories\\\\strawberry', '../../Assets/101_ObjectCategories\\\\sunflower', '../../Assets/101_ObjectCategories\\\\tick', '../../Assets/101_ObjectCategories\\\\trilobite', '../../Assets/101_ObjectCategories\\\\umbrella', '../../Assets/101_ObjectCategories\\\\watch', '../../Assets/101_ObjectCategories\\\\water_lilly', '../../Assets/101_ObjectCategories\\\\wheelchair', '../../Assets/101_ObjectCategories\\\\wild_cat', '../../Assets/101_ObjectCategories\\\\windsor_chair', '../../Assets/101_ObjectCategories\\\\wrench', '../../Assets/101_ObjectCategories\\\\yin_yang']\n"
     ]
    }
   ],
   "source": [
    "root = '../../Assets/101_ObjectCategories'\n",
    "exclude = ['BACKGROUND_Google', 'Motorbikes', 'airplanes', 'Faces_easy', 'Faces']\n",
    "train_split, val_split = 0.7, 0.15\n",
    "\n",
    "categories = [x[0] for x in os.walk(root) if x[0]][1:]\n",
    "categories = [c for c in categories if c not in [os.path.join(root, e) for e in exclude]]\n",
    "\n",
    "print(categories)"
   ]
  },
  {
   "cell_type": "code",
   "execution_count": 21,
   "metadata": {},
   "outputs": [],
   "source": [
    "# helper function to load image and return it and input vector\n",
    "def get_image(path):\n",
    "    img = image.load_img(path, target_size=(224, 224))\n",
    "    x = image.img_to_array(img)\n",
    "    x = np.expand_dims(x, axis=0)\n",
    "    x = preprocess_input(x)\n",
    "    return img, x"
   ]
  },
  {
   "cell_type": "code",
   "execution_count": 24,
   "metadata": {},
   "outputs": [],
   "source": [
    "data = []\n",
    "for c, category in enumerate(categories):\n",
    "    images = [os.path.join(dp, f) for dp, dn, filenames \n",
    "              in os.walk(category) for f in filenames \n",
    "              if os.path.splitext(f)[1].lower() in ['.jpg','.png','.jpeg']]\n",
    "    for img_path in images:\n",
    "        img, x = get_image(img_path)\n",
    "        data.append({'x':np.array(x[0]), 'y':c})\n",
    "\n",
    "# count the number of classes\n",
    "num_classes = len(categories)"
   ]
  },
  {
   "cell_type": "code",
   "execution_count": 25,
   "metadata": {},
   "outputs": [
    {
     "data": {
      "text/plain": [
       "{'x': array([[[-103.939, -116.779, -123.68 ],\n",
       "         [-103.939, -116.779, -123.68 ],\n",
       "         [-103.939, -116.779, -123.68 ],\n",
       "         ...,\n",
       "         [-103.939, -116.779, -123.68 ],\n",
       "         [-103.939, -116.779, -123.68 ],\n",
       "         [-103.939, -116.779, -123.68 ]],\n",
       " \n",
       "        [[-103.939, -116.779, -123.68 ],\n",
       "         [-103.939, -116.779, -123.68 ],\n",
       "         [-103.939, -116.779, -123.68 ],\n",
       "         ...,\n",
       "         [-103.939, -116.779, -123.68 ],\n",
       "         [-103.939, -116.779, -123.68 ],\n",
       "         [-103.939, -116.779, -123.68 ]],\n",
       " \n",
       "        [[-103.939, -116.779, -123.68 ],\n",
       "         [-103.939, -116.779, -123.68 ],\n",
       "         [-103.939, -116.779, -123.68 ],\n",
       "         ...,\n",
       "         [-103.939, -116.779, -123.68 ],\n",
       "         [-103.939, -116.779, -123.68 ],\n",
       "         [-103.939, -116.779, -123.68 ]],\n",
       " \n",
       "        ...,\n",
       " \n",
       "        [[-103.939, -116.779, -123.68 ],\n",
       "         [-103.939, -116.779, -123.68 ],\n",
       "         [-103.939, -116.779, -123.68 ],\n",
       "         ...,\n",
       "         [-103.939, -116.779, -123.68 ],\n",
       "         [-103.939, -116.779, -123.68 ],\n",
       "         [-103.939, -116.779, -123.68 ]],\n",
       " \n",
       "        [[-103.939, -116.779, -123.68 ],\n",
       "         [-103.939, -116.779, -123.68 ],\n",
       "         [-103.939, -116.779, -123.68 ],\n",
       "         ...,\n",
       "         [-103.939, -116.779, -123.68 ],\n",
       "         [-103.939, -116.779, -123.68 ],\n",
       "         [-103.939, -116.779, -123.68 ]],\n",
       " \n",
       "        [[-103.939, -116.779, -123.68 ],\n",
       "         [-103.939, -116.779, -123.68 ],\n",
       "         [-103.939, -116.779, -123.68 ],\n",
       "         ...,\n",
       "         [-103.939, -116.779, -123.68 ],\n",
       "         [-103.939, -116.779, -123.68 ],\n",
       "         [-103.939, -116.779, -123.68 ]]], dtype=float32), 'y': 0}"
      ]
     },
     "execution_count": 25,
     "metadata": {},
     "output_type": "execute_result"
    }
   ],
   "source": [
    "data[0]"
   ]
  },
  {
   "cell_type": "code",
   "execution_count": null,
   "metadata": {},
   "outputs": [],
   "source": []
  }
 ],
 "metadata": {
  "kernelspec": {
   "display_name": "Python 3",
   "language": "python",
   "name": "python3"
  },
  "language_info": {
   "codemirror_mode": {
    "name": "ipython",
    "version": 3
   },
   "file_extension": ".py",
   "mimetype": "text/x-python",
   "name": "python",
   "nbconvert_exporter": "python",
   "pygments_lexer": "ipython3",
   "version": "3.6.5"
  }
 },
 "nbformat": 4,
 "nbformat_minor": 2
}

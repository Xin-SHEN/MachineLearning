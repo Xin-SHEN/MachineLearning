{
 "cells": [
  {
   "cell_type": "code",
   "execution_count": 1,
   "metadata": {},
   "outputs": [
    {
     "name": "stderr",
     "output_type": "stream",
     "text": [
      "C:\\ProgramData\\Anaconda3\\lib\\site-packages\\h5py\\__init__.py:36: FutureWarning: Conversion of the second argument of issubdtype from `float` to `np.floating` is deprecated. In future, it will be treated as `np.float64 == np.dtype(float).type`.\n",
      "  from ._conv import register_converters as _register_converters\n",
      "Using TensorFlow backend.\n"
     ]
    }
   ],
   "source": [
    "import os\n",
    "import random\n",
    "import numpy as np\n",
    "import keras\n",
    "\n",
    "import matplotlib.pyplot as plt\n",
    "from matplotlib.pyplot import imshow\n",
    "\n",
    "from keras.preprocessing import image\n",
    "from keras.applications.imagenet_utils import preprocess_input\n",
    "from keras.models import Sequential\n",
    "from keras.layers import Dense, Dropout, Flatten, Activation\n",
    "from keras.layers import Conv2D, MaxPooling2D\n",
    "from keras.models import Model"
   ]
  },
  {
   "cell_type": "code",
   "execution_count": 2,
   "metadata": {},
   "outputs": [
    {
     "name": "stdout",
     "output_type": "stream",
     "text": [
      "['../../Assets/101_ObjectCategories\\\\accordion', '../../Assets/101_ObjectCategories\\\\anchor', '../../Assets/101_ObjectCategories\\\\ant', '../../Assets/101_ObjectCategories\\\\barrel', '../../Assets/101_ObjectCategories\\\\bass', '../../Assets/101_ObjectCategories\\\\beaver', '../../Assets/101_ObjectCategories\\\\binocular', '../../Assets/101_ObjectCategories\\\\bonsai', '../../Assets/101_ObjectCategories\\\\brain', '../../Assets/101_ObjectCategories\\\\brontosaurus', '../../Assets/101_ObjectCategories\\\\buddha', '../../Assets/101_ObjectCategories\\\\butterfly', '../../Assets/101_ObjectCategories\\\\camera', '../../Assets/101_ObjectCategories\\\\cannon', '../../Assets/101_ObjectCategories\\\\car_side', '../../Assets/101_ObjectCategories\\\\ceiling_fan', '../../Assets/101_ObjectCategories\\\\cellphone', '../../Assets/101_ObjectCategories\\\\chair', '../../Assets/101_ObjectCategories\\\\chandelier', '../../Assets/101_ObjectCategories\\\\cougar_body', '../../Assets/101_ObjectCategories\\\\cougar_face', '../../Assets/101_ObjectCategories\\\\crab', '../../Assets/101_ObjectCategories\\\\crayfish', '../../Assets/101_ObjectCategories\\\\crocodile', '../../Assets/101_ObjectCategories\\\\crocodile_head', '../../Assets/101_ObjectCategories\\\\cup', '../../Assets/101_ObjectCategories\\\\dalmatian', '../../Assets/101_ObjectCategories\\\\dollar_bill', '../../Assets/101_ObjectCategories\\\\dolphin', '../../Assets/101_ObjectCategories\\\\dragonfly', '../../Assets/101_ObjectCategories\\\\electric_guitar', '../../Assets/101_ObjectCategories\\\\elephant', '../../Assets/101_ObjectCategories\\\\emu', '../../Assets/101_ObjectCategories\\\\euphonium', '../../Assets/101_ObjectCategories\\\\ewer', '../../Assets/101_ObjectCategories\\\\ferry', '../../Assets/101_ObjectCategories\\\\flamingo', '../../Assets/101_ObjectCategories\\\\flamingo_head', '../../Assets/101_ObjectCategories\\\\garfield', '../../Assets/101_ObjectCategories\\\\gerenuk', '../../Assets/101_ObjectCategories\\\\gramophone', '../../Assets/101_ObjectCategories\\\\grand_piano', '../../Assets/101_ObjectCategories\\\\hawksbill', '../../Assets/101_ObjectCategories\\\\headphone', '../../Assets/101_ObjectCategories\\\\hedgehog', '../../Assets/101_ObjectCategories\\\\helicopter', '../../Assets/101_ObjectCategories\\\\ibis', '../../Assets/101_ObjectCategories\\\\inline_skate', '../../Assets/101_ObjectCategories\\\\joshua_tree', '../../Assets/101_ObjectCategories\\\\kangaroo', '../../Assets/101_ObjectCategories\\\\ketch', '../../Assets/101_ObjectCategories\\\\lamp', '../../Assets/101_ObjectCategories\\\\laptop', '../../Assets/101_ObjectCategories\\\\Leopards', '../../Assets/101_ObjectCategories\\\\llama', '../../Assets/101_ObjectCategories\\\\lobster', '../../Assets/101_ObjectCategories\\\\lotus', '../../Assets/101_ObjectCategories\\\\mandolin', '../../Assets/101_ObjectCategories\\\\mayfly', '../../Assets/101_ObjectCategories\\\\menorah', '../../Assets/101_ObjectCategories\\\\metronome', '../../Assets/101_ObjectCategories\\\\minaret', '../../Assets/101_ObjectCategories\\\\nautilus', '../../Assets/101_ObjectCategories\\\\octopus', '../../Assets/101_ObjectCategories\\\\okapi', '../../Assets/101_ObjectCategories\\\\pagoda', '../../Assets/101_ObjectCategories\\\\panda', '../../Assets/101_ObjectCategories\\\\pigeon', '../../Assets/101_ObjectCategories\\\\pizza', '../../Assets/101_ObjectCategories\\\\platypus', '../../Assets/101_ObjectCategories\\\\pyramid', '../../Assets/101_ObjectCategories\\\\revolver', '../../Assets/101_ObjectCategories\\\\rhino', '../../Assets/101_ObjectCategories\\\\rooster', '../../Assets/101_ObjectCategories\\\\saxophone', '../../Assets/101_ObjectCategories\\\\schooner', '../../Assets/101_ObjectCategories\\\\scissors', '../../Assets/101_ObjectCategories\\\\scorpion', '../../Assets/101_ObjectCategories\\\\sea_horse', '../../Assets/101_ObjectCategories\\\\snoopy', '../../Assets/101_ObjectCategories\\\\soccer_ball', '../../Assets/101_ObjectCategories\\\\stapler', '../../Assets/101_ObjectCategories\\\\starfish', '../../Assets/101_ObjectCategories\\\\stegosaurus', '../../Assets/101_ObjectCategories\\\\stop_sign', '../../Assets/101_ObjectCategories\\\\strawberry', '../../Assets/101_ObjectCategories\\\\sunflower', '../../Assets/101_ObjectCategories\\\\tick', '../../Assets/101_ObjectCategories\\\\trilobite', '../../Assets/101_ObjectCategories\\\\umbrella', '../../Assets/101_ObjectCategories\\\\watch', '../../Assets/101_ObjectCategories\\\\water_lilly', '../../Assets/101_ObjectCategories\\\\wheelchair', '../../Assets/101_ObjectCategories\\\\wild_cat', '../../Assets/101_ObjectCategories\\\\windsor_chair', '../../Assets/101_ObjectCategories\\\\wrench', '../../Assets/101_ObjectCategories\\\\yin_yang']\n"
     ]
    }
   ],
   "source": [
    "root = '../../Assets/101_ObjectCategories'\n",
    "exclude = ['BACKGROUND_Google', 'Motorbikes', 'airplanes', 'Faces_easy', 'Faces']\n",
    "train_split, val_split = 0.7, 0.15\n",
    "\n",
    "categories = [x[0] for x in os.walk(root) if x[0]][1:]\n",
    "categories = [c for c in categories if c not in [os.path.join(root, e) for e in exclude]]\n",
    "\n",
    "print(categories)"
   ]
  },
  {
   "cell_type": "code",
   "execution_count": 3,
   "metadata": {},
   "outputs": [],
   "source": [
    "# helper function to load image and return it and input vector\n",
    "def get_image(path):\n",
    "    img = image.load_img(path, target_size=(224, 224))\n",
    "    x = image.img_to_array(img)\n",
    "    x = np.expand_dims(x, axis=0)\n",
    "    x = preprocess_input(x)\n",
    "    return img, x"
   ]
  },
  {
   "cell_type": "code",
   "execution_count": 4,
   "metadata": {},
   "outputs": [
    {
     "data": {
      "text/plain": [
       "(97, 6209)"
      ]
     },
     "execution_count": 4,
     "metadata": {},
     "output_type": "execute_result"
    }
   ],
   "source": [
    "data = []\n",
    "for c, category in enumerate(categories):\n",
    "    images = [os.path.join(dp, f) for dp, dn, filenames \n",
    "              in os.walk(category) for f in filenames \n",
    "              if os.path.splitext(f)[1].lower() in ['.jpg','.png','.jpeg']]\n",
    "    for img_path in images:\n",
    "        img, x = get_image(img_path)\n",
    "        data.append({'x':np.array(x[0]), 'y':c})\n",
    "\n",
    "random.shuffle(data)\n",
    "        \n",
    "# count the number of classes\n",
    "num_classes = len(categories)\n",
    "num_samples = len(data)\n",
    "num_classes, num_samples"
   ]
  },
  {
   "cell_type": "code",
   "execution_count": 5,
   "metadata": {},
   "outputs": [],
   "source": [
    "idx_train = int(train_split * num_samples)\n",
    "idx_val = int((train_split + val_split) * num_samples)\n",
    "train = data[0:idx_train]\n",
    "val = data[idx_train:idx_val]\n",
    "test = data[idx_val:]"
   ]
  },
  {
   "cell_type": "code",
   "execution_count": 6,
   "metadata": {},
   "outputs": [
    {
     "data": {
      "text/plain": [
       "(4346, 931, 932)"
      ]
     },
     "execution_count": 6,
     "metadata": {},
     "output_type": "execute_result"
    }
   ],
   "source": [
    "len(train), len(val), len(test)"
   ]
  },
  {
   "cell_type": "code",
   "execution_count": 7,
   "metadata": {},
   "outputs": [],
   "source": [
    "x_train = np.array([t['x'] for t in train])\n",
    "x_val = np.array([t['x'] for t in val])\n",
    "x_test = np.array([t['x'] for t in test])\n",
    "\n",
    "y_train = np.array([t['y'] for t in train])\n",
    "y_val = np.array([t['y'] for t in val])\n",
    "y_test = np.array([t['y'] for t in test])"
   ]
  },
  {
   "cell_type": "code",
   "execution_count": 8,
   "metadata": {},
   "outputs": [
    {
     "data": {
      "text/plain": [
       "(4346,)"
      ]
     },
     "execution_count": 8,
     "metadata": {},
     "output_type": "execute_result"
    }
   ],
   "source": [
    "y_train.shape"
   ]
  },
  {
   "cell_type": "code",
   "execution_count": 9,
   "metadata": {},
   "outputs": [],
   "source": [
    "y_train = keras.utils.to_categorical(y_train, num_classes)\n",
    "y_val = keras.utils.to_categorical(y_val, num_classes)\n",
    "y_test = keras.utils.to_categorical(y_test, num_classes)"
   ]
  },
  {
   "cell_type": "code",
   "execution_count": 10,
   "metadata": {},
   "outputs": [
    {
     "data": {
      "text/plain": [
       "(4346, 97)"
      ]
     },
     "execution_count": 10,
     "metadata": {},
     "output_type": "execute_result"
    }
   ],
   "source": [
    "y_train.shape"
   ]
  },
  {
   "cell_type": "code",
   "execution_count": 13,
   "metadata": {},
   "outputs": [
    {
     "name": "stdout",
     "output_type": "stream",
     "text": [
      "Downloading data from https://github.com/fchollet/deep-learning-models/releases/download/v0.1/vgg16_weights_tf_dim_ordering_tf_kernels.h5\n",
      "553467904/553467096 [==============================] - 303s 1us/step\n",
      "_________________________________________________________________\n",
      "Layer (type)                 Output Shape              Param #   \n",
      "=================================================================\n",
      "input_1 (InputLayer)         (None, 224, 224, 3)       0         \n",
      "_________________________________________________________________\n",
      "block1_conv1 (Conv2D)        (None, 224, 224, 64)      1792      \n",
      "_________________________________________________________________\n",
      "block1_conv2 (Conv2D)        (None, 224, 224, 64)      36928     \n",
      "_________________________________________________________________\n",
      "block1_pool (MaxPooling2D)   (None, 112, 112, 64)      0         \n",
      "_________________________________________________________________\n",
      "block2_conv1 (Conv2D)        (None, 112, 112, 128)     73856     \n",
      "_________________________________________________________________\n",
      "block2_conv2 (Conv2D)        (None, 112, 112, 128)     147584    \n",
      "_________________________________________________________________\n",
      "block2_pool (MaxPooling2D)   (None, 56, 56, 128)       0         \n",
      "_________________________________________________________________\n",
      "block3_conv1 (Conv2D)        (None, 56, 56, 256)       295168    \n",
      "_________________________________________________________________\n",
      "block3_conv2 (Conv2D)        (None, 56, 56, 256)       590080    \n",
      "_________________________________________________________________\n",
      "block3_conv3 (Conv2D)        (None, 56, 56, 256)       590080    \n",
      "_________________________________________________________________\n",
      "block3_pool (MaxPooling2D)   (None, 28, 28, 256)       0         \n",
      "_________________________________________________________________\n",
      "block4_conv1 (Conv2D)        (None, 28, 28, 512)       1180160   \n",
      "_________________________________________________________________\n",
      "block4_conv2 (Conv2D)        (None, 28, 28, 512)       2359808   \n",
      "_________________________________________________________________\n",
      "block4_conv3 (Conv2D)        (None, 28, 28, 512)       2359808   \n",
      "_________________________________________________________________\n",
      "block4_pool (MaxPooling2D)   (None, 14, 14, 512)       0         \n",
      "_________________________________________________________________\n",
      "block5_conv1 (Conv2D)        (None, 14, 14, 512)       2359808   \n",
      "_________________________________________________________________\n",
      "block5_conv2 (Conv2D)        (None, 14, 14, 512)       2359808   \n",
      "_________________________________________________________________\n",
      "block5_conv3 (Conv2D)        (None, 14, 14, 512)       2359808   \n",
      "_________________________________________________________________\n",
      "block5_pool (MaxPooling2D)   (None, 7, 7, 512)         0         \n",
      "_________________________________________________________________\n",
      "flatten (Flatten)            (None, 25088)             0         \n",
      "_________________________________________________________________\n",
      "fc1 (Dense)                  (None, 4096)              102764544 \n",
      "_________________________________________________________________\n",
      "fc2 (Dense)                  (None, 4096)              16781312  \n",
      "_________________________________________________________________\n",
      "predictions (Dense)          (None, 1000)              4097000   \n",
      "=================================================================\n",
      "Total params: 138,357,544\n",
      "Trainable params: 138,357,544\n",
      "Non-trainable params: 0\n",
      "_________________________________________________________________\n"
     ]
    }
   ],
   "source": [
    "vgg = keras.applications.VGG16(weights='imagenet',include_top=True)\n",
    "vgg.summary()"
   ]
  },
  {
   "cell_type": "code",
   "execution_count": 14,
   "metadata": {},
   "outputs": [
    {
     "name": "stdout",
     "output_type": "stream",
     "text": [
      "_________________________________________________________________\n",
      "Layer (type)                 Output Shape              Param #   \n",
      "=================================================================\n",
      "input_1 (InputLayer)         (None, 224, 224, 3)       0         \n",
      "_________________________________________________________________\n",
      "block1_conv1 (Conv2D)        (None, 224, 224, 64)      1792      \n",
      "_________________________________________________________________\n",
      "block1_conv2 (Conv2D)        (None, 224, 224, 64)      36928     \n",
      "_________________________________________________________________\n",
      "block1_pool (MaxPooling2D)   (None, 112, 112, 64)      0         \n",
      "_________________________________________________________________\n",
      "block2_conv1 (Conv2D)        (None, 112, 112, 128)     73856     \n",
      "_________________________________________________________________\n",
      "block2_conv2 (Conv2D)        (None, 112, 112, 128)     147584    \n",
      "_________________________________________________________________\n",
      "block2_pool (MaxPooling2D)   (None, 56, 56, 128)       0         \n",
      "_________________________________________________________________\n",
      "block3_conv1 (Conv2D)        (None, 56, 56, 256)       295168    \n",
      "_________________________________________________________________\n",
      "block3_conv2 (Conv2D)        (None, 56, 56, 256)       590080    \n",
      "_________________________________________________________________\n",
      "block3_conv3 (Conv2D)        (None, 56, 56, 256)       590080    \n",
      "_________________________________________________________________\n",
      "block3_pool (MaxPooling2D)   (None, 28, 28, 256)       0         \n",
      "_________________________________________________________________\n",
      "block4_conv1 (Conv2D)        (None, 28, 28, 512)       1180160   \n",
      "_________________________________________________________________\n",
      "block4_conv2 (Conv2D)        (None, 28, 28, 512)       2359808   \n",
      "_________________________________________________________________\n",
      "block4_conv3 (Conv2D)        (None, 28, 28, 512)       2359808   \n",
      "_________________________________________________________________\n",
      "block4_pool (MaxPooling2D)   (None, 14, 14, 512)       0         \n",
      "_________________________________________________________________\n",
      "block5_conv1 (Conv2D)        (None, 14, 14, 512)       2359808   \n",
      "_________________________________________________________________\n",
      "block5_conv2 (Conv2D)        (None, 14, 14, 512)       2359808   \n",
      "_________________________________________________________________\n",
      "block5_conv3 (Conv2D)        (None, 14, 14, 512)       2359808   \n",
      "_________________________________________________________________\n",
      "block5_pool (MaxPooling2D)   (None, 7, 7, 512)         0         \n",
      "_________________________________________________________________\n",
      "flatten (Flatten)            (None, 25088)             0         \n",
      "_________________________________________________________________\n",
      "fc1 (Dense)                  (None, 4096)              102764544 \n",
      "_________________________________________________________________\n",
      "fc2 (Dense)                  (None, 4096)              16781312  \n",
      "_________________________________________________________________\n",
      "dense_1 (Dense)              (None, 97)                397409    \n",
      "=================================================================\n",
      "Total params: 134,657,953\n",
      "Trainable params: 134,657,953\n",
      "Non-trainable params: 0\n",
      "_________________________________________________________________\n"
     ]
    }
   ],
   "source": [
    "inp = vgg.input\n",
    "new_classification_layer = Dense(num_classes, activation='softmax')\n",
    "out = new_classification_layer(vgg.layers[-2].output)\n",
    "model_new = Model(inp, out)\n",
    "model_new.summary()"
   ]
  },
  {
   "cell_type": "code",
   "execution_count": 26,
   "metadata": {},
   "outputs": [
    {
     "data": {
      "text/plain": [
       "[<keras.engine.input_layer.InputLayer at 0x1da4a7c1d68>,\n",
       " <keras.layers.convolutional.Conv2D at 0x1da4a7c1f60>,\n",
       " <keras.layers.convolutional.Conv2D at 0x1dbdd7af0b8>,\n",
       " <keras.layers.pooling.MaxPooling2D at 0x1dbdd7afdd8>,\n",
       " <keras.layers.convolutional.Conv2D at 0x1dbdd7d3d68>,\n",
       " <keras.layers.convolutional.Conv2D at 0x1dbdd7ee908>,\n",
       " <keras.layers.pooling.MaxPooling2D at 0x1dbdd7fe550>,\n",
       " <keras.layers.convolutional.Conv2D at 0x1dbdd826550>,\n",
       " <keras.layers.convolutional.Conv2D at 0x1dbdd8262e8>,\n",
       " <keras.layers.convolutional.Conv2D at 0x1da4a6cdeb8>,\n",
       " <keras.layers.pooling.MaxPooling2D at 0x1dbdd869048>,\n",
       " <keras.layers.convolutional.Conv2D at 0x1dbdd87e898>,\n",
       " <keras.layers.convolutional.Conv2D at 0x1dbdd894b70>,\n",
       " <keras.layers.convolutional.Conv2D at 0x1dbdd8a67b8>,\n",
       " <keras.layers.pooling.MaxPooling2D at 0x1dbdd8ccda0>,\n",
       " <keras.layers.convolutional.Conv2D at 0x1dbdd8e2fd0>,\n",
       " <keras.layers.convolutional.Conv2D at 0x1dbdd8fac50>,\n",
       " <keras.layers.convolutional.Conv2D at 0x1dbdd90a898>,\n",
       " <keras.layers.pooling.MaxPooling2D at 0x1dbdd931ef0>,\n",
       " <keras.layers.core.Flatten at 0x1dbdd949390>,\n",
       " <keras.layers.core.Dense at 0x1dbdd95dd68>,\n",
       " <keras.layers.core.Dense at 0x1dbdd984b38>,\n",
       " <keras.layers.core.Dense at 0x1dc131fbb38>]"
      ]
     },
     "execution_count": 26,
     "metadata": {},
     "output_type": "execute_result"
    }
   ],
   "source": [
    "for l,layer in enumerate(model_new.layers[0:-1]):\n",
    "    layer.trainable = False\n",
    "\n",
    "for l,layer in enumerate(model_new.layers[-1:]):\n",
    "    layer.trainable = True\n",
    "    \n",
    "model_new.layers"
   ]
  },
  {
   "cell_type": "code",
   "execution_count": 27,
   "metadata": {},
   "outputs": [],
   "source": [
    "model_new.compile(loss='categorical_crossentropy', optimizer='adam', metrics=['accuracy'])"
   ]
  },
  {
   "cell_type": "code",
   "execution_count": 29,
   "metadata": {},
   "outputs": [
    {
     "name": "stdout",
     "output_type": "stream",
     "text": [
      "Train on 4346 samples, validate on 931 samples\n",
      "Epoch 1/100\n",
      "4346/4346 [==============================] - 26s 6ms/step - loss: 1.5125 - acc: 0.6726 - val_loss: 0.6269 - val_acc: 0.8228\n",
      "Epoch 2/100\n",
      "4346/4346 [==============================] - 20s 5ms/step - loss: 0.1170 - acc: 0.9662 - val_loss: 0.5229 - val_acc: 0.8528\n",
      "Epoch 3/100\n",
      "4346/4346 [==============================] - 20s 5ms/step - loss: 0.0299 - acc: 0.9961 - val_loss: 0.5162 - val_acc: 0.8657\n",
      "Epoch 4/100\n",
      "4346/4346 [==============================] - 20s 5ms/step - loss: 0.0185 - acc: 0.9965 - val_loss: 0.5194 - val_acc: 0.8614\n",
      "Epoch 5/100\n",
      "4346/4346 [==============================] - 20s 5ms/step - loss: 0.0115 - acc: 0.9982 - val_loss: 0.4945 - val_acc: 0.8679\n",
      "Epoch 6/100\n",
      "4346/4346 [==============================] - 20s 5ms/step - loss: 0.0066 - acc: 0.9998 - val_loss: 0.4952 - val_acc: 0.8700\n",
      "Epoch 7/100\n",
      "4346/4346 [==============================] - 20s 5ms/step - loss: 0.0051 - acc: 1.0000 - val_loss: 0.4931 - val_acc: 0.8679\n",
      "Epoch 8/100\n",
      "4346/4346 [==============================] - 20s 5ms/step - loss: 0.0043 - acc: 1.0000 - val_loss: 0.4942 - val_acc: 0.8668\n",
      "Epoch 9/100\n",
      "4346/4346 [==============================] - 20s 5ms/step - loss: 0.0038 - acc: 1.0000 - val_loss: 0.4973 - val_acc: 0.8690\n",
      "Epoch 10/100\n",
      "4346/4346 [==============================] - 20s 5ms/step - loss: 0.0034 - acc: 1.0000 - val_loss: 0.4991 - val_acc: 0.8690\n",
      "Epoch 11/100\n",
      "4346/4346 [==============================] - 20s 5ms/step - loss: 0.0030 - acc: 1.0000 - val_loss: 0.4963 - val_acc: 0.8679\n",
      "Epoch 12/100\n",
      "4346/4346 [==============================] - 20s 5ms/step - loss: 0.0026 - acc: 1.0000 - val_loss: 0.4965 - val_acc: 0.8679\n",
      "Epoch 13/100\n",
      "4346/4346 [==============================] - 20s 5ms/step - loss: 0.0023 - acc: 1.0000 - val_loss: 0.4969 - val_acc: 0.8711\n",
      "Epoch 14/100\n",
      "4346/4346 [==============================] - 20s 5ms/step - loss: 0.0021 - acc: 1.0000 - val_loss: 0.4980 - val_acc: 0.8679\n",
      "Epoch 15/100\n",
      "4346/4346 [==============================] - 20s 5ms/step - loss: 0.0020 - acc: 1.0000 - val_loss: 0.4982 - val_acc: 0.8679\n",
      "Epoch 16/100\n",
      "4346/4346 [==============================] - 20s 5ms/step - loss: 0.0018 - acc: 1.0000 - val_loss: 0.4987 - val_acc: 0.8668\n",
      "Epoch 17/100\n",
      "4346/4346 [==============================] - 20s 5ms/step - loss: 0.0017 - acc: 1.0000 - val_loss: 0.4994 - val_acc: 0.8690\n",
      "Epoch 18/100\n",
      "4346/4346 [==============================] - 20s 5ms/step - loss: 0.0015 - acc: 1.0000 - val_loss: 0.4990 - val_acc: 0.8668\n",
      "Epoch 19/100\n",
      "4346/4346 [==============================] - 20s 5ms/step - loss: 0.0014 - acc: 1.0000 - val_loss: 0.5019 - val_acc: 0.8690\n",
      "Epoch 20/100\n",
      "4346/4346 [==============================] - 20s 5ms/step - loss: 0.0013 - acc: 1.0000 - val_loss: 0.5007 - val_acc: 0.8690\n",
      "Epoch 21/100\n",
      "4346/4346 [==============================] - 20s 5ms/step - loss: 0.0013 - acc: 1.0000 - val_loss: 0.5026 - val_acc: 0.8700\n",
      "Epoch 22/100\n",
      "4346/4346 [==============================] - 20s 5ms/step - loss: 0.0012 - acc: 1.0000 - val_loss: 0.5025 - val_acc: 0.8647\n",
      "Epoch 23/100\n",
      "4346/4346 [==============================] - 20s 5ms/step - loss: 0.0011 - acc: 1.0000 - val_loss: 0.5024 - val_acc: 0.8690\n",
      "Epoch 24/100\n",
      "4346/4346 [==============================] - 20s 5ms/step - loss: 0.0010 - acc: 1.0000 - val_loss: 0.5040 - val_acc: 0.8668\n",
      "Epoch 25/100\n",
      "4346/4346 [==============================] - 20s 5ms/step - loss: 9.7899e-04 - acc: 1.0000 - val_loss: 0.5040 - val_acc: 0.8679\n",
      "Epoch 26/100\n",
      "2688/4346 [=================>............] - ETA: 6s - loss: 9.1817e-04 - acc: 1.0000"
     ]
    },
    {
     "ename": "KeyboardInterrupt",
     "evalue": "",
     "output_type": "error",
     "traceback": [
      "\u001b[1;31m---------------------------------------------------------------------------\u001b[0m",
      "\u001b[1;31mKeyboardInterrupt\u001b[0m                         Traceback (most recent call last)",
      "\u001b[1;32m<ipython-input-29-b16d5400f79d>\u001b[0m in \u001b[0;36m<module>\u001b[1;34m()\u001b[0m\n\u001b[0;32m      3\u001b[0m               \u001b[0mepochs\u001b[0m\u001b[1;33m=\u001b[0m\u001b[1;36m100\u001b[0m\u001b[1;33m,\u001b[0m\u001b[1;33m\u001b[0m\u001b[0m\n\u001b[0;32m      4\u001b[0m               \u001b[0mverbose\u001b[0m\u001b[1;33m=\u001b[0m\u001b[1;36m1\u001b[0m\u001b[1;33m,\u001b[0m\u001b[1;33m\u001b[0m\u001b[0m\n\u001b[1;32m----> 5\u001b[1;33m               validation_data=(x_val, y_val))\n\u001b[0m",
      "\u001b[1;32mC:\\ProgramData\\Anaconda3\\lib\\site-packages\\keras\\engine\\training.py\u001b[0m in \u001b[0;36mfit\u001b[1;34m(self, x, y, batch_size, epochs, verbose, callbacks, validation_split, validation_data, shuffle, class_weight, sample_weight, initial_epoch, steps_per_epoch, validation_steps, **kwargs)\u001b[0m\n\u001b[0;32m   1040\u001b[0m                                         \u001b[0minitial_epoch\u001b[0m\u001b[1;33m=\u001b[0m\u001b[0minitial_epoch\u001b[0m\u001b[1;33m,\u001b[0m\u001b[1;33m\u001b[0m\u001b[0m\n\u001b[0;32m   1041\u001b[0m                                         \u001b[0msteps_per_epoch\u001b[0m\u001b[1;33m=\u001b[0m\u001b[0msteps_per_epoch\u001b[0m\u001b[1;33m,\u001b[0m\u001b[1;33m\u001b[0m\u001b[0m\n\u001b[1;32m-> 1042\u001b[1;33m                                         validation_steps=validation_steps)\n\u001b[0m\u001b[0;32m   1043\u001b[0m \u001b[1;33m\u001b[0m\u001b[0m\n\u001b[0;32m   1044\u001b[0m     def evaluate(self, x=None, y=None,\n",
      "\u001b[1;32mC:\\ProgramData\\Anaconda3\\lib\\site-packages\\keras\\engine\\training_arrays.py\u001b[0m in \u001b[0;36mfit_loop\u001b[1;34m(model, f, ins, out_labels, batch_size, epochs, verbose, callbacks, val_f, val_ins, shuffle, callback_metrics, initial_epoch, steps_per_epoch, validation_steps)\u001b[0m\n\u001b[0;32m    197\u001b[0m                     \u001b[0mins_batch\u001b[0m\u001b[1;33m[\u001b[0m\u001b[0mi\u001b[0m\u001b[1;33m]\u001b[0m \u001b[1;33m=\u001b[0m \u001b[0mins_batch\u001b[0m\u001b[1;33m[\u001b[0m\u001b[0mi\u001b[0m\u001b[1;33m]\u001b[0m\u001b[1;33m.\u001b[0m\u001b[0mtoarray\u001b[0m\u001b[1;33m(\u001b[0m\u001b[1;33m)\u001b[0m\u001b[1;33m\u001b[0m\u001b[0m\n\u001b[0;32m    198\u001b[0m \u001b[1;33m\u001b[0m\u001b[0m\n\u001b[1;32m--> 199\u001b[1;33m                 \u001b[0mouts\u001b[0m \u001b[1;33m=\u001b[0m \u001b[0mf\u001b[0m\u001b[1;33m(\u001b[0m\u001b[0mins_batch\u001b[0m\u001b[1;33m)\u001b[0m\u001b[1;33m\u001b[0m\u001b[0m\n\u001b[0m\u001b[0;32m    200\u001b[0m                 \u001b[1;32mif\u001b[0m \u001b[1;32mnot\u001b[0m \u001b[0misinstance\u001b[0m\u001b[1;33m(\u001b[0m\u001b[0mouts\u001b[0m\u001b[1;33m,\u001b[0m \u001b[0mlist\u001b[0m\u001b[1;33m)\u001b[0m\u001b[1;33m:\u001b[0m\u001b[1;33m\u001b[0m\u001b[0m\n\u001b[0;32m    201\u001b[0m                     \u001b[0mouts\u001b[0m \u001b[1;33m=\u001b[0m \u001b[1;33m[\u001b[0m\u001b[0mouts\u001b[0m\u001b[1;33m]\u001b[0m\u001b[1;33m\u001b[0m\u001b[0m\n",
      "\u001b[1;32mC:\\ProgramData\\Anaconda3\\lib\\site-packages\\keras\\backend\\tensorflow_backend.py\u001b[0m in \u001b[0;36m__call__\u001b[1;34m(self, inputs)\u001b[0m\n\u001b[0;32m   2659\u001b[0m                 \u001b[1;32mreturn\u001b[0m \u001b[0mself\u001b[0m\u001b[1;33m.\u001b[0m\u001b[0m_legacy_call\u001b[0m\u001b[1;33m(\u001b[0m\u001b[0minputs\u001b[0m\u001b[1;33m)\u001b[0m\u001b[1;33m\u001b[0m\u001b[0m\n\u001b[0;32m   2660\u001b[0m \u001b[1;33m\u001b[0m\u001b[0m\n\u001b[1;32m-> 2661\u001b[1;33m             \u001b[1;32mreturn\u001b[0m \u001b[0mself\u001b[0m\u001b[1;33m.\u001b[0m\u001b[0m_call\u001b[0m\u001b[1;33m(\u001b[0m\u001b[0minputs\u001b[0m\u001b[1;33m)\u001b[0m\u001b[1;33m\u001b[0m\u001b[0m\n\u001b[0m\u001b[0;32m   2662\u001b[0m         \u001b[1;32melse\u001b[0m\u001b[1;33m:\u001b[0m\u001b[1;33m\u001b[0m\u001b[0m\n\u001b[0;32m   2663\u001b[0m             \u001b[1;32mif\u001b[0m \u001b[0mpy_any\u001b[0m\u001b[1;33m(\u001b[0m\u001b[0mis_tensor\u001b[0m\u001b[1;33m(\u001b[0m\u001b[0mx\u001b[0m\u001b[1;33m)\u001b[0m \u001b[1;32mfor\u001b[0m \u001b[0mx\u001b[0m \u001b[1;32min\u001b[0m \u001b[0minputs\u001b[0m\u001b[1;33m)\u001b[0m\u001b[1;33m:\u001b[0m\u001b[1;33m\u001b[0m\u001b[0m\n",
      "\u001b[1;32mC:\\ProgramData\\Anaconda3\\lib\\site-packages\\keras\\backend\\tensorflow_backend.py\u001b[0m in \u001b[0;36m_call\u001b[1;34m(self, inputs)\u001b[0m\n\u001b[0;32m   2629\u001b[0m                                 \u001b[0msymbol_vals\u001b[0m\u001b[1;33m,\u001b[0m\u001b[1;33m\u001b[0m\u001b[0m\n\u001b[0;32m   2630\u001b[0m                                 session)\n\u001b[1;32m-> 2631\u001b[1;33m         \u001b[0mfetched\u001b[0m \u001b[1;33m=\u001b[0m \u001b[0mself\u001b[0m\u001b[1;33m.\u001b[0m\u001b[0m_callable_fn\u001b[0m\u001b[1;33m(\u001b[0m\u001b[1;33m*\u001b[0m\u001b[0marray_vals\u001b[0m\u001b[1;33m)\u001b[0m\u001b[1;33m\u001b[0m\u001b[0m\n\u001b[0m\u001b[0;32m   2632\u001b[0m         \u001b[1;32mreturn\u001b[0m \u001b[0mfetched\u001b[0m\u001b[1;33m[\u001b[0m\u001b[1;33m:\u001b[0m\u001b[0mlen\u001b[0m\u001b[1;33m(\u001b[0m\u001b[0mself\u001b[0m\u001b[1;33m.\u001b[0m\u001b[0moutputs\u001b[0m\u001b[1;33m)\u001b[0m\u001b[1;33m]\u001b[0m\u001b[1;33m\u001b[0m\u001b[0m\n\u001b[0;32m   2633\u001b[0m \u001b[1;33m\u001b[0m\u001b[0m\n",
      "\u001b[1;32mC:\\ProgramData\\Anaconda3\\lib\\site-packages\\tensorflow\\python\\client\\session.py\u001b[0m in \u001b[0;36m__call__\u001b[1;34m(self, *args)\u001b[0m\n\u001b[0;32m   1449\u001b[0m         \u001b[1;32mif\u001b[0m \u001b[0mself\u001b[0m\u001b[1;33m.\u001b[0m\u001b[0m_session\u001b[0m\u001b[1;33m.\u001b[0m\u001b[0m_created_with_new_api\u001b[0m\u001b[1;33m:\u001b[0m\u001b[1;33m\u001b[0m\u001b[0m\n\u001b[0;32m   1450\u001b[0m           return tf_session.TF_SessionRunCallable(\n\u001b[1;32m-> 1451\u001b[1;33m               self._session._session, self._handle, args, status, None)\n\u001b[0m\u001b[0;32m   1452\u001b[0m         \u001b[1;32melse\u001b[0m\u001b[1;33m:\u001b[0m\u001b[1;33m\u001b[0m\u001b[0m\n\u001b[0;32m   1453\u001b[0m           return tf_session.TF_DeprecatedSessionRunCallable(\n",
      "\u001b[1;31mKeyboardInterrupt\u001b[0m: "
     ]
    }
   ],
   "source": [
    "model_new.fit(x_train, y_train,\n",
    "              batch_size=128,\n",
    "              epochs=100,\n",
    "              verbose=1,\n",
    "              validation_data=(x_val, y_val))"
   ]
  }
 ],
 "metadata": {
  "kernelspec": {
   "display_name": "Python 3",
   "language": "python",
   "name": "python3"
  },
  "language_info": {
   "codemirror_mode": {
    "name": "ipython",
    "version": 3
   },
   "file_extension": ".py",
   "mimetype": "text/x-python",
   "name": "python",
   "nbconvert_exporter": "python",
   "pygments_lexer": "ipython3",
   "version": "3.6.5"
  }
 },
 "nbformat": 4,
 "nbformat_minor": 2
}
